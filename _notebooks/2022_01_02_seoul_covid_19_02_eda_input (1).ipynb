{
  "cells": [
    {
      "cell_type": "markdown",
      "source": [
        "---\n",
        "title: \"Pandas - Corona Virus Count Analysis\"\n",
        "description: \"Corona Virus Count Analysis\"\n",
        "layout: post\n",
        "toc: false\n",
        "comments: true\n",
        "image: images/some_folder/your_image.png\n",
        "hide: false\n",
        "search_exclude: true\n",
        "categories: [fastpages, colab, pandas, python]\n",
        "metadata_key1: metadata_value1\n",
        "metadata_key2: metadata_value2\n",
        "---"
      ],
      "metadata": {
        "id": "cfq48T7SIUJE"
      }
    },
    {
      "cell_type": "markdown",
      "metadata": {
        "id": "pUtT_phPNTek"
      },
      "source": [
        "* [인프런 - 단 두 장의 문서로 데이터 분석과 시각화 뽀개기](https://www.inflearn.com/course/%ED%8C%90%EB%8B%A4%EC%8A%A4-Pandas)에서 전 코드에 대한 강좌를 보실 수 있습니다.\n",
        "\n",
        "## 서울시에서 공개한 코로나19 발생동향 분석\n",
        "* http://www.seoul.go.kr/coronaV/coronaStatus.do\n",
        "\n",
        "\n",
        "해당 데이터는 지금도 업데이트가 되고 있는 데이터셋입니다. \n",
        "최근 데이터로 실습을 하시면 변경된 내용이 많아 당황하실 수 있습니다. <font color=\"red\">6월 30일자 기준 데이터</font>로 우선 실습해 보시고 응용해 보는 걸 권장합니다."
      ]
    },
    {
      "cell_type": "code",
      "execution_count": null,
      "metadata": {
        "id": "zaYcgOzuNTeo"
      },
      "outputs": [],
      "source": [
        "# pandas, numpy 라이브러리 로드하기\n",
        "\n",
        "import pandas as pd\n",
        "import numpy as np"
      ]
    },
    {
      "cell_type": "code",
      "execution_count": null,
      "metadata": {
        "id": "VasiwC8hNTeq",
        "outputId": "521f7677-09da-471c-9dff-c942a3dc9ccf",
        "colab": {
          "base_uri": "https://localhost:8080/",
          "height": 35
        }
      },
      "outputs": [
        {
          "output_type": "execute_result",
          "data": {
            "application/vnd.google.colaboratory.intrinsic+json": {
              "type": "string"
            },
            "text/plain": [
              "'/content/sample_data/seoul-covid19_6_30_.csv'"
            ]
          },
          "metadata": {},
          "execution_count": 2
        }
      ],
      "source": [
        "# file_name 변수에 read_html 로 저장한 파일명을 지정해 줍니다.\n",
        "file_name = f\"/content/sample_data/seoul-covid19_6_30_.csv\"\n",
        "file_name"
      ]
    },
    {
      "cell_type": "markdown",
      "metadata": {
        "id": "FBYNajbPNTeq"
      },
      "source": [
        "* CSV 파일 다운로드 : https://raw.githubusercontent.com/corazzon/cracking-the-pandas-cheat-sheet/master/seoul-covid19_6_30_.csv"
      ]
    },
    {
      "cell_type": "code",
      "execution_count": null,
      "metadata": {
        "id": "K84WtrBANTer",
        "outputId": "5856e2cc-9fe8-4092-f1d1-76de02e1835a",
        "colab": {
          "base_uri": "https://localhost:8080/"
        }
      },
      "outputs": [
        {
          "output_type": "execute_result",
          "data": {
            "text/plain": [
              "(1321, 7)"
            ]
          },
          "metadata": {},
          "execution_count": 3
        }
      ],
      "source": [
        "# 아래 코드의 주석을 풀고 바로 읽어올 수도 있습니다.\n",
        "# pd.read_csv(\"https://raw.githubusercontent.com/corazzon/cracking-the-pandas-cheat-sheet/master/seoul-covid19_6_30_.csv\") \n",
        "# read_csv 로 csv 파일을 불러와 주세요.\n",
        "df = pd.read_csv(file_name, encoding = 'utf-8')\n",
        "df.shape"
      ]
    },
    {
      "cell_type": "code",
      "source": [
        "from google.colab import drive\n",
        "drive.mount('/content/drive')"
      ],
      "metadata": {
        "id": "-ebZ1PX_k2Ur",
        "outputId": "3c8902f1-e5f9-40ce-91a5-7736ccd0dc20",
        "colab": {
          "base_uri": "https://localhost:8080/"
        }
      },
      "execution_count": null,
      "outputs": [
        {
          "output_type": "stream",
          "name": "stdout",
          "text": [
            "Mounted at /content/drive\n"
          ]
        }
      ]
    },
    {
      "cell_type": "code",
      "execution_count": null,
      "metadata": {
        "id": "vBjBOIE8NTer",
        "colab": {
          "base_uri": "https://localhost:8080/",
          "height": 423
        },
        "outputId": "406a23e0-5dd4-4306-f4f8-efbadd9bedb4"
      },
      "outputs": [
        {
          "output_type": "execute_result",
          "data": {
            "text/html": [
              "\n",
              "  <div id=\"df-63e457d8-b475-4a35-9aa4-995561adb4c7\">\n",
              "    <div class=\"colab-df-container\">\n",
              "      <div>\n",
              "<style scoped>\n",
              "    .dataframe tbody tr th:only-of-type {\n",
              "        vertical-align: middle;\n",
              "    }\n",
              "\n",
              "    .dataframe tbody tr th {\n",
              "        vertical-align: top;\n",
              "    }\n",
              "\n",
              "    .dataframe thead th {\n",
              "        text-align: right;\n",
              "    }\n",
              "</style>\n",
              "<table border=\"1\" class=\"dataframe\">\n",
              "  <thead>\n",
              "    <tr style=\"text-align: right;\">\n",
              "      <th></th>\n",
              "      <th>연번</th>\n",
              "      <th>환자</th>\n",
              "      <th>확진일</th>\n",
              "      <th>거주지</th>\n",
              "      <th>여행력</th>\n",
              "      <th>접촉력</th>\n",
              "      <th>조치사항</th>\n",
              "    </tr>\n",
              "  </thead>\n",
              "  <tbody>\n",
              "    <tr>\n",
              "      <th>0</th>\n",
              "      <td>1321</td>\n",
              "      <td>12830</td>\n",
              "      <td>6.30.</td>\n",
              "      <td>영등포구</td>\n",
              "      <td>-</td>\n",
              "      <td>영등포구 확진자 접촉</td>\n",
              "      <td>-</td>\n",
              "    </tr>\n",
              "    <tr>\n",
              "      <th>1</th>\n",
              "      <td>1320</td>\n",
              "      <td>12829</td>\n",
              "      <td>6.30.</td>\n",
              "      <td>관악구</td>\n",
              "      <td>-</td>\n",
              "      <td>확인 중</td>\n",
              "      <td>보라매병원</td>\n",
              "    </tr>\n",
              "    <tr>\n",
              "      <th>2</th>\n",
              "      <td>1319</td>\n",
              "      <td>12831</td>\n",
              "      <td>6.30.</td>\n",
              "      <td>영등포구</td>\n",
              "      <td>-</td>\n",
              "      <td>확인 중</td>\n",
              "      <td>중앙대학교병원</td>\n",
              "    </tr>\n",
              "    <tr>\n",
              "      <th>3</th>\n",
              "      <td>1318</td>\n",
              "      <td>12808</td>\n",
              "      <td>6.30.</td>\n",
              "      <td>관악구</td>\n",
              "      <td>-</td>\n",
              "      <td>강남구 역삼동 모임</td>\n",
              "      <td>보라매병원</td>\n",
              "    </tr>\n",
              "    <tr>\n",
              "      <th>4</th>\n",
              "      <td>1317</td>\n",
              "      <td>12809</td>\n",
              "      <td>6.30.</td>\n",
              "      <td>관악구</td>\n",
              "      <td>-</td>\n",
              "      <td>강남구 역삼동 모임</td>\n",
              "      <td>보라매병원</td>\n",
              "    </tr>\n",
              "    <tr>\n",
              "      <th>...</th>\n",
              "      <td>...</td>\n",
              "      <td>...</td>\n",
              "      <td>...</td>\n",
              "      <td>...</td>\n",
              "      <td>...</td>\n",
              "      <td>...</td>\n",
              "      <td>...</td>\n",
              "    </tr>\n",
              "    <tr>\n",
              "      <th>1316</th>\n",
              "      <td>5</td>\n",
              "      <td>9</td>\n",
              "      <td>1.31.</td>\n",
              "      <td>성북구</td>\n",
              "      <td>-</td>\n",
              "      <td>#5 접촉</td>\n",
              "      <td>서울의료원(퇴원)</td>\n",
              "    </tr>\n",
              "    <tr>\n",
              "      <th>1317</th>\n",
              "      <td>4</td>\n",
              "      <td>7</td>\n",
              "      <td>1.30.</td>\n",
              "      <td>마포구</td>\n",
              "      <td>중국 우한시</td>\n",
              "      <td>해외 접촉</td>\n",
              "      <td>서울의료원(퇴원)</td>\n",
              "    </tr>\n",
              "    <tr>\n",
              "      <th>1318</th>\n",
              "      <td>3</td>\n",
              "      <td>6</td>\n",
              "      <td>1.30.</td>\n",
              "      <td>종로구</td>\n",
              "      <td>-</td>\n",
              "      <td>#3 접촉</td>\n",
              "      <td>서울대학교병원(퇴원)</td>\n",
              "    </tr>\n",
              "    <tr>\n",
              "      <th>1319</th>\n",
              "      <td>2</td>\n",
              "      <td>5</td>\n",
              "      <td>1.30.</td>\n",
              "      <td>중랑구</td>\n",
              "      <td>중국 우한시</td>\n",
              "      <td>해외 접촉</td>\n",
              "      <td>서울의료원(퇴원)</td>\n",
              "    </tr>\n",
              "    <tr>\n",
              "      <th>1320</th>\n",
              "      <td>1</td>\n",
              "      <td>2</td>\n",
              "      <td>1.24.</td>\n",
              "      <td>강서구</td>\n",
              "      <td>중국 우한시</td>\n",
              "      <td>해외 접촉</td>\n",
              "      <td>국립중앙의료원(퇴원)</td>\n",
              "    </tr>\n",
              "  </tbody>\n",
              "</table>\n",
              "<p>1321 rows × 7 columns</p>\n",
              "</div>\n",
              "      <button class=\"colab-df-convert\" onclick=\"convertToInteractive('df-63e457d8-b475-4a35-9aa4-995561adb4c7')\"\n",
              "              title=\"Convert this dataframe to an interactive table.\"\n",
              "              style=\"display:none;\">\n",
              "        \n",
              "  <svg xmlns=\"http://www.w3.org/2000/svg\" height=\"24px\"viewBox=\"0 0 24 24\"\n",
              "       width=\"24px\">\n",
              "    <path d=\"M0 0h24v24H0V0z\" fill=\"none\"/>\n",
              "    <path d=\"M18.56 5.44l.94 2.06.94-2.06 2.06-.94-2.06-.94-.94-2.06-.94 2.06-2.06.94zm-11 1L8.5 8.5l.94-2.06 2.06-.94-2.06-.94L8.5 2.5l-.94 2.06-2.06.94zm10 10l.94 2.06.94-2.06 2.06-.94-2.06-.94-.94-2.06-.94 2.06-2.06.94z\"/><path d=\"M17.41 7.96l-1.37-1.37c-.4-.4-.92-.59-1.43-.59-.52 0-1.04.2-1.43.59L10.3 9.45l-7.72 7.72c-.78.78-.78 2.05 0 2.83L4 21.41c.39.39.9.59 1.41.59.51 0 1.02-.2 1.41-.59l7.78-7.78 2.81-2.81c.8-.78.8-2.07 0-2.86zM5.41 20L4 18.59l7.72-7.72 1.47 1.35L5.41 20z\"/>\n",
              "  </svg>\n",
              "      </button>\n",
              "      \n",
              "  <style>\n",
              "    .colab-df-container {\n",
              "      display:flex;\n",
              "      flex-wrap:wrap;\n",
              "      gap: 12px;\n",
              "    }\n",
              "\n",
              "    .colab-df-convert {\n",
              "      background-color: #E8F0FE;\n",
              "      border: none;\n",
              "      border-radius: 50%;\n",
              "      cursor: pointer;\n",
              "      display: none;\n",
              "      fill: #1967D2;\n",
              "      height: 32px;\n",
              "      padding: 0 0 0 0;\n",
              "      width: 32px;\n",
              "    }\n",
              "\n",
              "    .colab-df-convert:hover {\n",
              "      background-color: #E2EBFA;\n",
              "      box-shadow: 0px 1px 2px rgba(60, 64, 67, 0.3), 0px 1px 3px 1px rgba(60, 64, 67, 0.15);\n",
              "      fill: #174EA6;\n",
              "    }\n",
              "\n",
              "    [theme=dark] .colab-df-convert {\n",
              "      background-color: #3B4455;\n",
              "      fill: #D2E3FC;\n",
              "    }\n",
              "\n",
              "    [theme=dark] .colab-df-convert:hover {\n",
              "      background-color: #434B5C;\n",
              "      box-shadow: 0px 1px 3px 1px rgba(0, 0, 0, 0.15);\n",
              "      filter: drop-shadow(0px 1px 2px rgba(0, 0, 0, 0.3));\n",
              "      fill: #FFFFFF;\n",
              "    }\n",
              "  </style>\n",
              "\n",
              "      <script>\n",
              "        const buttonEl =\n",
              "          document.querySelector('#df-63e457d8-b475-4a35-9aa4-995561adb4c7 button.colab-df-convert');\n",
              "        buttonEl.style.display =\n",
              "          google.colab.kernel.accessAllowed ? 'block' : 'none';\n",
              "\n",
              "        async function convertToInteractive(key) {\n",
              "          const element = document.querySelector('#df-63e457d8-b475-4a35-9aa4-995561adb4c7');\n",
              "          const dataTable =\n",
              "            await google.colab.kernel.invokeFunction('convertToInteractive',\n",
              "                                                     [key], {});\n",
              "          if (!dataTable) return;\n",
              "\n",
              "          const docLinkHtml = 'Like what you see? Visit the ' +\n",
              "            '<a target=\"_blank\" href=https://colab.research.google.com/notebooks/data_table.ipynb>data table notebook</a>'\n",
              "            + ' to learn more about interactive tables.';\n",
              "          element.innerHTML = '';\n",
              "          dataTable['output_type'] = 'display_data';\n",
              "          await google.colab.output.renderOutput(dataTable, element);\n",
              "          const docLink = document.createElement('div');\n",
              "          docLink.innerHTML = docLinkHtml;\n",
              "          element.appendChild(docLink);\n",
              "        }\n",
              "      </script>\n",
              "    </div>\n",
              "  </div>\n",
              "  "
            ],
            "text/plain": [
              "        연번     환자    확진일   거주지     여행력          접촉력         조치사항\n",
              "0     1321  12830  6.30.  영등포구       -  영등포구 확진자 접촉            -\n",
              "1     1320  12829  6.30.   관악구       -         확인 중        보라매병원\n",
              "2     1319  12831  6.30.  영등포구       -         확인 중      중앙대학교병원\n",
              "3     1318  12808  6.30.   관악구       -   강남구 역삼동 모임        보라매병원\n",
              "4     1317  12809  6.30.   관악구       -   강남구 역삼동 모임        보라매병원\n",
              "...    ...    ...    ...   ...     ...          ...          ...\n",
              "1316     5      9  1.31.   성북구       -        #5 접촉    서울의료원(퇴원)\n",
              "1317     4      7  1.30.   마포구  중국 우한시        해외 접촉    서울의료원(퇴원)\n",
              "1318     3      6  1.30.   종로구       -        #3 접촉  서울대학교병원(퇴원)\n",
              "1319     2      5  1.30.   중랑구  중국 우한시        해외 접촉    서울의료원(퇴원)\n",
              "1320     1      2  1.24.   강서구  중국 우한시        해외 접촉  국립중앙의료원(퇴원)\n",
              "\n",
              "[1321 rows x 7 columns]"
            ]
          },
          "metadata": {},
          "execution_count": 4
        }
      ],
      "source": [
        "# \"연번\"을 기준으로 역순으로 정렬합니다.\n",
        "\n",
        "df = df.sort_values(by = '연번', ascending = False)\n",
        "\n",
        "df"
      ]
    },
    {
      "cell_type": "code",
      "execution_count": null,
      "metadata": {
        "id": "rUh1YvGgNTes"
      },
      "outputs": [],
      "source": [
        "# head 로 미리보기를 합니다.\n",
        "\n"
      ]
    },
    {
      "cell_type": "code",
      "execution_count": null,
      "metadata": {
        "id": "OZ_zsY8UNTes"
      },
      "outputs": [],
      "source": [
        "# tail 로 미리보기를 합니다.\n",
        "\n"
      ]
    },
    {
      "cell_type": "markdown",
      "metadata": {
        "id": "9Zt6UIr1NTet"
      },
      "source": [
        "## 시각화 도구 불러오기"
      ]
    },
    {
      "cell_type": "code",
      "execution_count": null,
      "metadata": {
        "id": "2-7kqxW1NTeu",
        "colab": {
          "base_uri": "https://localhost:8080/",
          "height": 332
        },
        "outputId": "f9c03c9f-d966-44eb-f6fc-a0796a5a90d9"
      },
      "outputs": [
        {
          "output_type": "execute_result",
          "data": {
            "text/plain": [
              "<matplotlib.axes._subplots.AxesSubplot at 0x7fe3305236d0>"
            ]
          },
          "metadata": {},
          "execution_count": 25
        },
        {
          "output_type": "stream",
          "name": "stderr",
          "text": [
            "findfont: Font family ['MalgunGothic'] not found. Falling back to DejaVu Sans.\n",
            "findfont: Font family ['MalgunGothic'] not found. Falling back to DejaVu Sans.\n"
          ]
        },
        {
          "output_type": "display_data",
          "data": {
            "image/png": "[encoded data removed]",
            "text/plain": [
              "<Figure size 432x288 with 1 Axes>"
            ]
          },
          "metadata": {
            "image/png": {
              "width": 421,
              "height": 281
            }
          }
        }
      ],
      "source": [
        "# matplotlib.pyplot 을 통해 한글폰트를 설정합니다.\n",
        "# plt.style.use 로 \"fivethirtyeight\" 스타일을 사용해 봅니다.\n",
        "\n",
        "import matplotlib.pyplot as plt\n",
        "plt.rc(\"font\", family = \"MalgunGothic\")\n",
        "plt.rc(\"axes\", unicode_minus = False)\n",
        "\n",
        "plt.style.use('fivethirtyeight')\n",
        "\n",
        "pd.Series([1,3,5,-7,9]).plot.bar(title = 'title')\n"
      ]
    },
    {
      "cell_type": "markdown",
      "metadata": {
        "id": "Ydg7hxRmNTeu"
      },
      "source": [
        "### 시각화 선명하게 설정하기"
      ]
    },
    {
      "cell_type": "code",
      "execution_count": null,
      "metadata": {
        "id": "i7w6N5SrNTeu"
      },
      "outputs": [],
      "source": [
        "# retina 디스플레이가 지원되는 환경에서 시각화의 폰트가 좀 더 선명해 보입니다.\n",
        "from IPython.display import set_matplotlib_formats\n",
        "set_matplotlib_formats(\"retina\")"
      ]
    },
    {
      "cell_type": "markdown",
      "metadata": {
        "id": "Er47TsD3NTev"
      },
      "source": [
        "## 확진일"
      ]
    },
    {
      "cell_type": "code",
      "execution_count": null,
      "metadata": {
        "id": "ENtm_LOVNTev",
        "colab": {
          "base_uri": "https://localhost:8080/"
        },
        "outputId": "36a8da64-f796-4e34-f847-4999ba79673a"
      },
      "outputs": [
        {
          "output_type": "execute_result",
          "data": {
            "text/plain": [
              "3.10.    46\n",
              "6.12.    30\n",
              "6.06.    29\n",
              "6.05.    27\n",
              "3.9.     26\n",
              "         ..\n",
              "4.19.     1\n",
              "5.9.      1\n",
              "5.01.     1\n",
              "3.3.      1\n",
              "3.5.      1\n",
              "Name: 확진일, Length: 131, dtype: int64"
            ]
          },
          "metadata": {},
          "execution_count": 7
        }
      ],
      "source": [
        "# 확진일의 빈도수를 봅니다. 어느 날짜에 가장 많이 확진이 되었는지 봅니다.\n",
        "\n",
        "df['확진일'].value_counts()"
      ]
    },
    {
      "cell_type": "code",
      "execution_count": null,
      "metadata": {
        "id": "fKBVBlK4NTev"
      },
      "outputs": [],
      "source": [
        "# \"확진일\" 컬럼의 데이터가 날짜 형태가 아니라 문자형태 입니다.\n",
        "\n"
      ]
    },
    {
      "cell_type": "code",
      "execution_count": null,
      "metadata": {
        "id": "GwKjyZ-dNTew",
        "colab": {
          "base_uri": "https://localhost:8080/",
          "height": 200
        },
        "outputId": "a552a3b1-ca50-4940-ace7-d143bbb95c43"
      },
      "outputs": [
        {
          "output_type": "error",
          "ename": "TypeError",
          "evalue": "ignored",
          "traceback": [
            "\u001b[0;31m---------------------------------------------------------------------------\u001b[0m",
            "\u001b[0;31mTypeError\u001b[0m                                 Traceback (most recent call last)",
            "\u001b[0;32m<ipython-input-9-87e4c941eb93>\u001b[0m in \u001b[0;36m<module>\u001b[0;34m()\u001b[0m\n\u001b[1;32m      5\u001b[0m \u001b[0;34m\u001b[0m\u001b[0m\n\u001b[1;32m      6\u001b[0m \u001b[0mdf\u001b[0m\u001b[0;34m[\u001b[0m\u001b[0;34m'확진일자'\u001b[0m\u001b[0;34m]\u001b[0m \u001b[0;34m=\u001b[0m \u001b[0mpd\u001b[0m\u001b[0;34m.\u001b[0m\u001b[0mto_datetime\u001b[0m\u001b[0;34m(\u001b[0m\u001b[0;34m\"2020-\"\u001b[0m\u001b[0;34m+\u001b[0m\u001b[0mdf\u001b[0m\u001b[0;34m[\u001b[0m\u001b[0;34m'확진일'\u001b[0m\u001b[0;34m]\u001b[0m\u001b[0;34m.\u001b[0m\u001b[0mstr\u001b[0m\u001b[0;34m.\u001b[0m\u001b[0mreplace\u001b[0m\u001b[0;34m(\u001b[0m\u001b[0;34m'.'\u001b[0m\u001b[0;34m,\u001b[0m \u001b[0;34m'-'\u001b[0m\u001b[0;34m)\u001b[0m\u001b[0;34m)\u001b[0m\u001b[0;34m\u001b[0m\u001b[0;34m\u001b[0m\u001b[0m\n\u001b[0;32m----> 7\u001b[0;31m \u001b[0mdf\u001b[0m\u001b[0;34m(\u001b[0m\u001b[0;34m[\u001b[0m\u001b[0;34m'확진일'\u001b[0m\u001b[0;34m,\u001b[0m \u001b[0;34m'확진일자'\u001b[0m\u001b[0;34m]\u001b[0m\u001b[0;34m)\u001b[0m\u001b[0;34m.\u001b[0m\u001b[0mhead\u001b[0m\u001b[0;34m(\u001b[0m\u001b[0;34m)\u001b[0m\u001b[0;34m\u001b[0m\u001b[0;34m\u001b[0m\u001b[0m\n\u001b[0m",
            "\u001b[0;31mTypeError\u001b[0m: 'DataFrame' object is not callable"
          ]
        }
      ],
      "source": [
        "# 데이터 타입을 변경해서 날짜형태로 변환합니다.\n",
        "# 판다스의 to_datetime 을 사용해서 날짜 타입으로 변경할 수 있습니다.\n",
        "# 연도가 없기 때문에 2020년을 날짜에 추가하고 \"-\" 문자로 날짜를 연결해 줍니다.\n",
        "\n",
        "\n",
        "df['확진일자'] = pd.to_datetime(\"2020-\"+df['확진일'].str.replace('.', '-'))\n"
      ]
    },
    {
      "cell_type": "code",
      "execution_count": null,
      "metadata": {
        "id": "SLdXtOElNTew",
        "colab": {
          "base_uri": "https://localhost:8080/",
          "height": 206
        },
        "outputId": "170dc05d-9e4e-454d-db97-fe210152f4eb"
      },
      "outputs": [
        {
          "output_type": "execute_result",
          "data": {
            "text/html": [
              "\n",
              "  <div id=\"df-2a5f4204-0cfa-4a06-8125-a374e3654059\">\n",
              "    <div class=\"colab-df-container\">\n",
              "      <div>\n",
              "<style scoped>\n",
              "    .dataframe tbody tr th:only-of-type {\n",
              "        vertical-align: middle;\n",
              "    }\n",
              "\n",
              "    .dataframe tbody tr th {\n",
              "        vertical-align: top;\n",
              "    }\n",
              "\n",
              "    .dataframe thead th {\n",
              "        text-align: right;\n",
              "    }\n",
              "</style>\n",
              "<table border=\"1\" class=\"dataframe\">\n",
              "  <thead>\n",
              "    <tr style=\"text-align: right;\">\n",
              "      <th></th>\n",
              "      <th>월</th>\n",
              "      <th>확진일</th>\n",
              "      <th>확진일자</th>\n",
              "    </tr>\n",
              "  </thead>\n",
              "  <tbody>\n",
              "    <tr>\n",
              "      <th>0</th>\n",
              "      <td>6</td>\n",
              "      <td>6.30.</td>\n",
              "      <td>2020-06-30</td>\n",
              "    </tr>\n",
              "    <tr>\n",
              "      <th>1</th>\n",
              "      <td>6</td>\n",
              "      <td>6.30.</td>\n",
              "      <td>2020-06-30</td>\n",
              "    </tr>\n",
              "    <tr>\n",
              "      <th>2</th>\n",
              "      <td>6</td>\n",
              "      <td>6.30.</td>\n",
              "      <td>2020-06-30</td>\n",
              "    </tr>\n",
              "    <tr>\n",
              "      <th>3</th>\n",
              "      <td>6</td>\n",
              "      <td>6.30.</td>\n",
              "      <td>2020-06-30</td>\n",
              "    </tr>\n",
              "    <tr>\n",
              "      <th>4</th>\n",
              "      <td>6</td>\n",
              "      <td>6.30.</td>\n",
              "      <td>2020-06-30</td>\n",
              "    </tr>\n",
              "  </tbody>\n",
              "</table>\n",
              "</div>\n",
              "      <button class=\"colab-df-convert\" onclick=\"convertToInteractive('df-2a5f4204-0cfa-4a06-8125-a374e3654059')\"\n",
              "              title=\"Convert this dataframe to an interactive table.\"\n",
              "              style=\"display:none;\">\n",
              "        \n",
              "  <svg xmlns=\"http://www.w3.org/2000/svg\" height=\"24px\"viewBox=\"0 0 24 24\"\n",
              "       width=\"24px\">\n",
              "    <path d=\"M0 0h24v24H0V0z\" fill=\"none\"/>\n",
              "    <path d=\"M18.56 5.44l.94 2.06.94-2.06 2.06-.94-2.06-.94-.94-2.06-.94 2.06-2.06.94zm-11 1L8.5 8.5l.94-2.06 2.06-.94-2.06-.94L8.5 2.5l-.94 2.06-2.06.94zm10 10l.94 2.06.94-2.06 2.06-.94-2.06-.94-.94-2.06-.94 2.06-2.06.94z\"/><path d=\"M17.41 7.96l-1.37-1.37c-.4-.4-.92-.59-1.43-.59-.52 0-1.04.2-1.43.59L10.3 9.45l-7.72 7.72c-.78.78-.78 2.05 0 2.83L4 21.41c.39.39.9.59 1.41.59.51 0 1.02-.2 1.41-.59l7.78-7.78 2.81-2.81c.8-.78.8-2.07 0-2.86zM5.41 20L4 18.59l7.72-7.72 1.47 1.35L5.41 20z\"/>\n",
              "  </svg>\n",
              "      </button>\n",
              "      \n",
              "  <style>\n",
              "    .colab-df-container {\n",
              "      display:flex;\n",
              "      flex-wrap:wrap;\n",
              "      gap: 12px;\n",
              "    }\n",
              "\n",
              "    .colab-df-convert {\n",
              "      background-color: #E8F0FE;\n",
              "      border: none;\n",
              "      border-radius: 50%;\n",
              "      cursor: pointer;\n",
              "      display: none;\n",
              "      fill: #1967D2;\n",
              "      height: 32px;\n",
              "      padding: 0 0 0 0;\n",
              "      width: 32px;\n",
              "    }\n",
              "\n",
              "    .colab-df-convert:hover {\n",
              "      background-color: #E2EBFA;\n",
              "      box-shadow: 0px 1px 2px rgba(60, 64, 67, 0.3), 0px 1px 3px 1px rgba(60, 64, 67, 0.15);\n",
              "      fill: #174EA6;\n",
              "    }\n",
              "\n",
              "    [theme=dark] .colab-df-convert {\n",
              "      background-color: #3B4455;\n",
              "      fill: #D2E3FC;\n",
              "    }\n",
              "\n",
              "    [theme=dark] .colab-df-convert:hover {\n",
              "      background-color: #434B5C;\n",
              "      box-shadow: 0px 1px 3px 1px rgba(0, 0, 0, 0.15);\n",
              "      filter: drop-shadow(0px 1px 2px rgba(0, 0, 0, 0.3));\n",
              "      fill: #FFFFFF;\n",
              "    }\n",
              "  </style>\n",
              "\n",
              "      <script>\n",
              "        const buttonEl =\n",
              "          document.querySelector('#df-2a5f4204-0cfa-4a06-8125-a374e3654059 button.colab-df-convert');\n",
              "        buttonEl.style.display =\n",
              "          google.colab.kernel.accessAllowed ? 'block' : 'none';\n",
              "\n",
              "        async function convertToInteractive(key) {\n",
              "          const element = document.querySelector('#df-2a5f4204-0cfa-4a06-8125-a374e3654059');\n",
              "          const dataTable =\n",
              "            await google.colab.kernel.invokeFunction('convertToInteractive',\n",
              "                                                     [key], {});\n",
              "          if (!dataTable) return;\n",
              "\n",
              "          const docLinkHtml = 'Like what you see? Visit the ' +\n",
              "            '<a target=\"_blank\" href=https://colab.research.google.com/notebooks/data_table.ipynb>data table notebook</a>'\n",
              "            + ' to learn more about interactive tables.';\n",
              "          element.innerHTML = '';\n",
              "          dataTable['output_type'] = 'display_data';\n",
              "          await google.colab.output.renderOutput(dataTable, element);\n",
              "          const docLink = document.createElement('div');\n",
              "          docLink.innerHTML = docLinkHtml;\n",
              "          element.appendChild(docLink);\n",
              "        }\n",
              "      </script>\n",
              "    </div>\n",
              "  </div>\n",
              "  "
            ],
            "text/plain": [
              "   월    확진일       확진일자\n",
              "0  6  6.30. 2020-06-30\n",
              "1  6  6.30. 2020-06-30\n",
              "2  6  6.30. 2020-06-30\n",
              "3  6  6.30. 2020-06-30\n",
              "4  6  6.30. 2020-06-30"
            ]
          },
          "metadata": {},
          "execution_count": 15
        }
      ],
      "source": [
        "# 월만 추출합니다.\n",
        "\n",
        "\n",
        "df['월'] = df.확진일자.dt.month\n",
        "\n",
        "df[['월','확진일', '확진일자']].head()"
      ]
    },
    {
      "cell_type": "code",
      "execution_count": null,
      "metadata": {
        "id": "eRZZm7OzNTew",
        "colab": {
          "base_uri": "https://localhost:8080/",
          "height": 261
        },
        "outputId": "e510b9a1-76c4-4211-abaf-6e84b71e5a43"
      },
      "outputs": [
        {
          "output_type": "stream",
          "name": "stderr",
          "text": [
            "/usr/local/lib/python3.7/dist-packages/ipykernel_launcher.py:2: FutureWarning: Series.dt.weekofyear and Series.dt.week have been deprecated.  Please use Series.dt.isocalendar().week instead.\n",
            "  \n"
          ]
        },
        {
          "output_type": "execute_result",
          "data": {
            "text/html": [
              "\n",
              "  <div id=\"df-b5558803-2212-4c6d-b633-e8ff22bbc661\">\n",
              "    <div class=\"colab-df-container\">\n",
              "      <div>\n",
              "<style scoped>\n",
              "    .dataframe tbody tr th:only-of-type {\n",
              "        vertical-align: middle;\n",
              "    }\n",
              "\n",
              "    .dataframe tbody tr th {\n",
              "        vertical-align: top;\n",
              "    }\n",
              "\n",
              "    .dataframe thead th {\n",
              "        text-align: right;\n",
              "    }\n",
              "</style>\n",
              "<table border=\"1\" class=\"dataframe\">\n",
              "  <thead>\n",
              "    <tr style=\"text-align: right;\">\n",
              "      <th></th>\n",
              "      <th>월</th>\n",
              "      <th>주</th>\n",
              "      <th>확진일</th>\n",
              "      <th>확진일자</th>\n",
              "    </tr>\n",
              "  </thead>\n",
              "  <tbody>\n",
              "    <tr>\n",
              "      <th>0</th>\n",
              "      <td>6</td>\n",
              "      <td>27</td>\n",
              "      <td>6.30.</td>\n",
              "      <td>2020-06-30</td>\n",
              "    </tr>\n",
              "    <tr>\n",
              "      <th>1</th>\n",
              "      <td>6</td>\n",
              "      <td>27</td>\n",
              "      <td>6.30.</td>\n",
              "      <td>2020-06-30</td>\n",
              "    </tr>\n",
              "    <tr>\n",
              "      <th>2</th>\n",
              "      <td>6</td>\n",
              "      <td>27</td>\n",
              "      <td>6.30.</td>\n",
              "      <td>2020-06-30</td>\n",
              "    </tr>\n",
              "    <tr>\n",
              "      <th>3</th>\n",
              "      <td>6</td>\n",
              "      <td>27</td>\n",
              "      <td>6.30.</td>\n",
              "      <td>2020-06-30</td>\n",
              "    </tr>\n",
              "    <tr>\n",
              "      <th>4</th>\n",
              "      <td>6</td>\n",
              "      <td>27</td>\n",
              "      <td>6.30.</td>\n",
              "      <td>2020-06-30</td>\n",
              "    </tr>\n",
              "  </tbody>\n",
              "</table>\n",
              "</div>\n",
              "      <button class=\"colab-df-convert\" onclick=\"convertToInteractive('df-b5558803-2212-4c6d-b633-e8ff22bbc661')\"\n",
              "              title=\"Convert this dataframe to an interactive table.\"\n",
              "              style=\"display:none;\">\n",
              "        \n",
              "  <svg xmlns=\"http://www.w3.org/2000/svg\" height=\"24px\"viewBox=\"0 0 24 24\"\n",
              "       width=\"24px\">\n",
              "    <path d=\"M0 0h24v24H0V0z\" fill=\"none\"/>\n",
              "    <path d=\"M18.56 5.44l.94 2.06.94-2.06 2.06-.94-2.06-.94-.94-2.06-.94 2.06-2.06.94zm-11 1L8.5 8.5l.94-2.06 2.06-.94-2.06-.94L8.5 2.5l-.94 2.06-2.06.94zm10 10l.94 2.06.94-2.06 2.06-.94-2.06-.94-.94-2.06-.94 2.06-2.06.94z\"/><path d=\"M17.41 7.96l-1.37-1.37c-.4-.4-.92-.59-1.43-.59-.52 0-1.04.2-1.43.59L10.3 9.45l-7.72 7.72c-.78.78-.78 2.05 0 2.83L4 21.41c.39.39.9.59 1.41.59.51 0 1.02-.2 1.41-.59l7.78-7.78 2.81-2.81c.8-.78.8-2.07 0-2.86zM5.41 20L4 18.59l7.72-7.72 1.47 1.35L5.41 20z\"/>\n",
              "  </svg>\n",
              "      </button>\n",
              "      \n",
              "  <style>\n",
              "    .colab-df-container {\n",
              "      display:flex;\n",
              "      flex-wrap:wrap;\n",
              "      gap: 12px;\n",
              "    }\n",
              "\n",
              "    .colab-df-convert {\n",
              "      background-color: #E8F0FE;\n",
              "      border: none;\n",
              "      border-radius: 50%;\n",
              "      cursor: pointer;\n",
              "      display: none;\n",
              "      fill: #1967D2;\n",
              "      height: 32px;\n",
              "      padding: 0 0 0 0;\n",
              "      width: 32px;\n",
              "    }\n",
              "\n",
              "    .colab-df-convert:hover {\n",
              "      background-color: #E2EBFA;\n",
              "      box-shadow: 0px 1px 2px rgba(60, 64, 67, 0.3), 0px 1px 3px 1px rgba(60, 64, 67, 0.15);\n",
              "      fill: #174EA6;\n",
              "    }\n",
              "\n",
              "    [theme=dark] .colab-df-convert {\n",
              "      background-color: #3B4455;\n",
              "      fill: #D2E3FC;\n",
              "    }\n",
              "\n",
              "    [theme=dark] .colab-df-convert:hover {\n",
              "      background-color: #434B5C;\n",
              "      box-shadow: 0px 1px 3px 1px rgba(0, 0, 0, 0.15);\n",
              "      filter: drop-shadow(0px 1px 2px rgba(0, 0, 0, 0.3));\n",
              "      fill: #FFFFFF;\n",
              "    }\n",
              "  </style>\n",
              "\n",
              "      <script>\n",
              "        const buttonEl =\n",
              "          document.querySelector('#df-b5558803-2212-4c6d-b633-e8ff22bbc661 button.colab-df-convert');\n",
              "        buttonEl.style.display =\n",
              "          google.colab.kernel.accessAllowed ? 'block' : 'none';\n",
              "\n",
              "        async function convertToInteractive(key) {\n",
              "          const element = document.querySelector('#df-b5558803-2212-4c6d-b633-e8ff22bbc661');\n",
              "          const dataTable =\n",
              "            await google.colab.kernel.invokeFunction('convertToInteractive',\n",
              "                                                     [key], {});\n",
              "          if (!dataTable) return;\n",
              "\n",
              "          const docLinkHtml = 'Like what you see? Visit the ' +\n",
              "            '<a target=\"_blank\" href=https://colab.research.google.com/notebooks/data_table.ipynb>data table notebook</a>'\n",
              "            + ' to learn more about interactive tables.';\n",
              "          element.innerHTML = '';\n",
              "          dataTable['output_type'] = 'display_data';\n",
              "          await google.colab.output.renderOutput(dataTable, element);\n",
              "          const docLink = document.createElement('div');\n",
              "          docLink.innerHTML = docLinkHtml;\n",
              "          element.appendChild(docLink);\n",
              "        }\n",
              "      </script>\n",
              "    </div>\n",
              "  </div>\n",
              "  "
            ],
            "text/plain": [
              "   월   주    확진일       확진일자\n",
              "0  6  27  6.30. 2020-06-30\n",
              "1  6  27  6.30. 2020-06-30\n",
              "2  6  27  6.30. 2020-06-30\n",
              "3  6  27  6.30. 2020-06-30\n",
              "4  6  27  6.30. 2020-06-30"
            ]
          },
          "metadata": {},
          "execution_count": 17
        }
      ],
      "source": [
        "# 해당 연도의 몇번째 \"주\"인지 추출합니다.\n",
        "df['주'] = df['확진일자'].dt.week\n",
        "df[['월', '주','확진일', '확진일자']].head()"
      ]
    },
    {
      "cell_type": "markdown",
      "metadata": {
        "id": "w8sjSCWFNTew"
      },
      "source": [
        "### 선그래프 그리기\n",
        "[Visualization — pandas documentation](https://pandas.pydata.org/pandas-docs/stable/user_guide/visualization.html)"
      ]
    },
    {
      "cell_type": "code",
      "execution_count": null,
      "metadata": {
        "id": "vTbHoFeCNTex",
        "colab": {
          "base_uri": "https://localhost:8080/",
          "height": 289
        },
        "outputId": "290b4ee3-02d6-4cd5-d706-36cca9b4637a"
      },
      "outputs": [
        {
          "output_type": "execute_result",
          "data": {
            "text/plain": [
              "<matplotlib.lines.Line2D at 0x7fe325daa210>"
            ]
          },
          "metadata": {},
          "execution_count": 32
        },
        {
          "output_type": "display_data",
          "data": {
            "image/png": "[encoded data removed]",
            "text/plain": [
              "<Figure size 1080x288 with 1 Axes>"
            ]
          },
          "metadata": {
            "image/png": {
              "width": 975,
              "height": 255
            }
          }
        }
      ],
      "source": [
        "# 확진일자로 선그래프를 그립니다.\n",
        "\n",
        "df['확진일자'].value_counts().plot(figsize= (15,4))\n",
        "plt.axhline(30, color = 'r', linestyle = ':')"
      ]
    },
    {
      "cell_type": "code",
      "source": [
        "df['월'].value_counts().plot.bar()"
      ],
      "metadata": {
        "colab": {
          "base_uri": "https://localhost:8080/",
          "height": 279
        },
        "id": "Yqmn9kzkEWGR",
        "outputId": "5614d18f-10f6-47e1-80d4-a90f87ce2d6a"
      },
      "execution_count": null,
      "outputs": [
        {
          "output_type": "execute_result",
          "data": {
            "text/plain": [
              "<matplotlib.axes._subplots.AxesSubplot at 0x7fe3304d3990>"
            ]
          },
          "metadata": {},
          "execution_count": 23
        },
        {
          "output_type": "display_data",
          "data": {
            "image/png": "[encoded data removed]",
            "text/plain": [
              "<Figure size 432x288 with 1 Axes>"
            ]
          },
          "metadata": {
            "image/png": {
              "width": 375,
              "height": 245
            },
            "needs_background": "light"
          }
        }
      ]
    },
    {
      "cell_type": "markdown",
      "metadata": {
        "id": "gsMfhoSHNTex"
      },
      "source": [
        "### 선그래프에 값 표시하기"
      ]
    },
    {
      "cell_type": "code",
      "execution_count": null,
      "metadata": {
        "id": "IPlbbbzkNTex",
        "colab": {
          "base_uri": "https://localhost:8080/"
        },
        "outputId": "0293a335-8286-4a2c-bad9-f4291346d75f"
      },
      "outputs": [
        {
          "output_type": "execute_result",
          "data": {
            "text/plain": [
              "1"
            ]
          },
          "metadata": {},
          "execution_count": 41
        }
      ],
      "source": [
        "# 일자별 확진자수를 선그래프로 그립니다.\n",
        "# 연도는 모두 2020년이기 때문에 월일만 표기되도록 슬라이싱을 사용해 \"월일\" 컬럼을 만듭니다.\n",
        "\n",
        "df['월일'] = df['확진일자'].astype(str).map(lambda x : x[-5:])\n",
        "\n",
        "day_count = df['월일'].value_counts().sort_index()\n",
        "\n",
        "#day_count.iloc[0]"
      ]
    },
    {
      "cell_type": "code",
      "source": [
        "for i in range(len(day_count)):\n",
        "  print(day_count.iloc[i])"
      ],
      "metadata": {
        "id": "9dYCBMoNLjKU"
      },
      "execution_count": null,
      "outputs": []
    },
    {
      "cell_type": "code",
      "source": [
        "g = day_count.plot(figsize = (15,4))\n",
        "\n",
        "for i in range(len(day_count)):\n",
        "  case_count = day_count.iloc[i]\n",
        "  if case_count > 25:\n",
        "    g.text(x=i-0.3, y =case_count, s =case_count)"
      ],
      "metadata": {
        "colab": {
          "base_uri": "https://localhost:8080/",
          "height": 282
        },
        "id": "pNifVL7xIQd_",
        "outputId": "0060a9c3-1f36-4d66-a04c-fbfe5c40b80c"
      },
      "execution_count": null,
      "outputs": [
        {
          "output_type": "display_data",
          "data": {
            "image/png": "[encoded data removed]",
            "text/plain": [
              "<Figure size 1080x288 with 1 Axes>"
            ]
          },
          "metadata": {
            "image/png": {
              "width": 975,
              "height": 265
            }
          }
        }
      ]
    },
    {
      "cell_type": "markdown",
      "metadata": {
        "id": "6fos3U-oNTex"
      },
      "source": [
        "### 확진자가 가장 많이 나온 날"
      ]
    },
    {
      "cell_type": "code",
      "execution_count": null,
      "metadata": {
        "id": "HE_drMH7NTex"
      },
      "outputs": [],
      "source": [
        "# describe 를 통해 일자별 확진자수를 describe를 통해 요약해 봅니다.\n",
        "\n"
      ]
    },
    {
      "cell_type": "code",
      "execution_count": null,
      "metadata": {
        "id": "1jjNurwmNTey"
      },
      "outputs": [],
      "source": [
        "# 확진자가 가장 많았던 날을 찾습니다.\n",
        "\n"
      ]
    },
    {
      "cell_type": "code",
      "execution_count": null,
      "metadata": {
        "id": "7pxhm_HwNTey"
      },
      "outputs": [],
      "source": [
        "# 확진자가 가장 많았던 날의 발생이력을 찾습니다.\n",
        "\n"
      ]
    },
    {
      "cell_type": "markdown",
      "metadata": {
        "id": "aSAiGYh2NTey"
      },
      "source": [
        "### 막대그래프 그리기"
      ]
    },
    {
      "cell_type": "code",
      "execution_count": null,
      "metadata": {
        "id": "mKFlPhdlNTey"
      },
      "outputs": [],
      "source": [
        "# 선그래프로 그렸던 그래프를 막대그래프로 그립니다.\n",
        "\n"
      ]
    },
    {
      "cell_type": "markdown",
      "metadata": {
        "id": "z_xIdf0CNTey"
      },
      "source": [
        "### 최근 데이터만 슬라이싱으로 나눠 그리기"
      ]
    },
    {
      "cell_type": "code",
      "execution_count": null,
      "metadata": {
        "id": "8eWBrX5CNTey"
      },
      "outputs": [],
      "source": [
        "# 슬라이싱을 통해 최근 데이터만 그립니다.\n",
        "\n"
      ]
    },
    {
      "cell_type": "markdown",
      "metadata": {
        "id": "blghY_mBNTez"
      },
      "source": [
        "### 월별 확진자 수 그리기"
      ]
    },
    {
      "cell_type": "code",
      "execution_count": null,
      "metadata": {
        "id": "rtCgA_MWNTez"
      },
      "outputs": [],
      "source": [
        "# 월별 확진자수에 대한 빈도수를 구해서 시각화 합니다.\n",
        "\n"
      ]
    },
    {
      "cell_type": "markdown",
      "metadata": {
        "id": "pFCjXE8jNTez"
      },
      "source": [
        "### 주단위 확진자수 그리기"
      ]
    },
    {
      "cell_type": "code",
      "execution_count": null,
      "metadata": {
        "scrolled": true,
        "id": "pX3n2TfPNTez"
      },
      "outputs": [],
      "source": [
        "# 주별로 빈도수를 구합니다.\n",
        "\n",
        "\n"
      ]
    },
    {
      "cell_type": "code",
      "execution_count": null,
      "metadata": {
        "id": "bIFj8trFNTez"
      },
      "outputs": [],
      "source": [
        "# 주단위 빈도수 막대그래프로 그리기\n"
      ]
    },
    {
      "cell_type": "markdown",
      "metadata": {
        "id": "G_2E43MaNTez"
      },
      "source": [
        "### 월-주 함께 그리기"
      ]
    },
    {
      "cell_type": "code",
      "execution_count": null,
      "metadata": {
        "id": "lbh2zYnHNTez"
      },
      "outputs": [],
      "source": [
        "# groupby 를 통해 \"월\", \"주\" 로 그룹화 하여 빈도수를 계산합니다.\n",
        "\n"
      ]
    },
    {
      "cell_type": "code",
      "execution_count": null,
      "metadata": {
        "id": "pgdydwlhNTe0"
      },
      "outputs": [],
      "source": [
        "# 월-주 를 함께 그래프에 표현하기\n",
        "\n",
        "\n"
      ]
    },
    {
      "cell_type": "markdown",
      "metadata": {
        "id": "T-JneWtENTe0"
      },
      "source": [
        "## 모든 날짜를 행에 만들어 주기\n",
        "* 확진자가 없는 날의 데이터도 만들어 줍니다."
      ]
    },
    {
      "cell_type": "code",
      "execution_count": null,
      "metadata": {
        "id": "mT8ErUWpNTe0"
      },
      "outputs": [],
      "source": [
        "# 첫 확진일 부터 마지막 확진일까지 가져옵니다.\n",
        "# 데이터프레임의 첫번째 날짜는 first_day 에 마지막 날짜는 last_day 에 담습니다.\n",
        "\n"
      ]
    },
    {
      "cell_type": "code",
      "execution_count": null,
      "metadata": {
        "id": "ycvbILF9NTe0"
      },
      "outputs": [],
      "source": [
        "# pd.date_range 를 통해 시작하는 날짜부터 끝나는 날짜까지의 \n",
        "# DatetimeIndex 를 만들고 days 라는 변수에 저장합니다.\n",
        "\n"
      ]
    },
    {
      "cell_type": "code",
      "execution_count": null,
      "metadata": {
        "id": "flVPcCogNTe0"
      },
      "outputs": [],
      "source": [
        "# days 변수의 값으로 \"연월일\" 이라는 컬럼이름을 갖는 데이터프레임을 만듭니다.\n",
        "\n"
      ]
    },
    {
      "cell_type": "code",
      "execution_count": null,
      "metadata": {
        "id": "oIj19b39NTe0"
      },
      "outputs": [],
      "source": [
        "# 확진일자별로 빈도수 구하기\n",
        "\n"
      ]
    },
    {
      "cell_type": "code",
      "execution_count": null,
      "metadata": {
        "id": "b70MXVKWNTe1"
      },
      "outputs": [],
      "source": [
        "# 확진일자별로 빈도수 구한 내용을 데이터프레임으로 변환하기\n",
        "\n"
      ]
    },
    {
      "cell_type": "code",
      "execution_count": null,
      "metadata": {
        "id": "myqooo-dNTe1"
      },
      "outputs": [],
      "source": [
        "# value_counts 결과의 컬럼명을 \"확진수\" 로 바꾸기\n",
        "\n",
        "\n"
      ]
    },
    {
      "cell_type": "markdown",
      "metadata": {
        "id": "1sNwV48vNTe1"
      },
      "source": [
        "### merge 를 통해 전체 확진일자 만들기\n",
        "* 이미지 출처 및 Pandas 공식문서 보기 : [How to combine data from multiple tables? — pandas documentation](https://pandas.pydata.org/pandas-docs/stable/getting_started/intro_tutorials/08_combine_dataframes.html#join-tables-using-a-common-identifier)\n",
        "\n",
        "<img src=\"https://pandas.pydata.org/pandas-docs/stable/_images/08_merge_left.svg\">"
      ]
    },
    {
      "cell_type": "code",
      "execution_count": null,
      "metadata": {
        "id": "rW8eBS4wNTe1"
      },
      "outputs": [],
      "source": [
        "# 확진자가 없는 날도 일자에 표현이 되도록 전체 일자와 확진 데이터를 merge 로 합쳐줍니다.\n",
        "\n"
      ]
    },
    {
      "cell_type": "markdown",
      "metadata": {
        "id": "zVga9lXONTe1"
      },
      "source": [
        "## 누적 확진자 수 구하기"
      ]
    },
    {
      "cell_type": "code",
      "execution_count": null,
      "metadata": {
        "id": "VEUEjPsLNTe1"
      },
      "outputs": [],
      "source": [
        "# 확진수를 fillna를 통해 결측치를 0으로 채워주고 누적해서 더해줍니다.\n",
        "\n"
      ]
    },
    {
      "cell_type": "code",
      "execution_count": null,
      "metadata": {
        "scrolled": true,
        "id": "AURAHpZWNTe1"
      },
      "outputs": [],
      "source": [
        "# 연도를 제외하고 월-일로 \"일자\" 컬럼 만들기\n",
        "\n"
      ]
    },
    {
      "cell_type": "code",
      "execution_count": null,
      "metadata": {
        "id": "UEdR9B7QNTe2"
      },
      "outputs": [],
      "source": [
        "# \"확진수\", \"누적확진\" 컬럼을 갖는 데이터프레임을 만듭니다.\n"
      ]
    },
    {
      "cell_type": "markdown",
      "metadata": {
        "id": "aH0Pz4Q0NTe2"
      },
      "source": [
        "### 데이터프레임으로 그리기"
      ]
    },
    {
      "cell_type": "code",
      "execution_count": null,
      "metadata": {
        "id": "CjPpXzmGNTe2"
      },
      "outputs": [],
      "source": [
        "# 데이터프레임으로 확진수와 누적확진을 선그래프로 그립니다.\n",
        "\n"
      ]
    },
    {
      "cell_type": "markdown",
      "metadata": {
        "id": "jNgizv4DNTe2"
      },
      "source": [
        "### 시리즈로 그리기"
      ]
    },
    {
      "cell_type": "code",
      "execution_count": null,
      "metadata": {
        "id": "Bg22wM_pNTe2"
      },
      "outputs": [],
      "source": [
        "# 시리즈로 2개의 그래프 그리기\n",
        "\n"
      ]
    },
    {
      "cell_type": "markdown",
      "metadata": {
        "id": "GjcDd4xwNTe2"
      },
      "source": [
        "### 확진수만 따로 그리기"
      ]
    },
    {
      "cell_type": "code",
      "execution_count": null,
      "metadata": {
        "scrolled": true,
        "id": "6K8nnOISNTe2"
      },
      "outputs": [],
      "source": [
        "# 누적확진수와 확진수와 차이가 크면 제대로 보이지 않기 때문에 확진수만 그립니다.\n",
        "\n"
      ]
    },
    {
      "cell_type": "markdown",
      "metadata": {
        "id": "RJm_lQY0NTe3"
      },
      "source": [
        "### 누적확진만 따로 그리기"
      ]
    },
    {
      "cell_type": "code",
      "execution_count": null,
      "metadata": {
        "id": "XnvfBXGcNTe3"
      },
      "outputs": [],
      "source": [
        "# 누적확진만 따로 그립니다.\n",
        "\n"
      ]
    },
    {
      "cell_type": "markdown",
      "metadata": {
        "id": "YbfRUQZ_NTe3"
      },
      "source": [
        "### 로그스케일\n",
        "* 차이가 너무 커서 그래프가 자세히 보이지 않을때 로그스케일로 표현하면 차이가 큰 값의 스케일을 조정해주게 됩니다."
      ]
    },
    {
      "cell_type": "code",
      "execution_count": null,
      "metadata": {
        "id": "-wKdMUtvNTe3"
      },
      "outputs": [],
      "source": [
        ""
      ]
    },
    {
      "cell_type": "markdown",
      "metadata": {
        "id": "N5ibAIUZNTe3"
      },
      "source": [
        "### 확진월과 요일 구하기"
      ]
    },
    {
      "cell_type": "code",
      "execution_count": null,
      "metadata": {
        "id": "qT5yAh-0NTe3"
      },
      "outputs": [],
      "source": [
        ""
      ]
    },
    {
      "cell_type": "markdown",
      "metadata": {
        "id": "ceSXFeZ6NTe3"
      },
      "source": [
        "## 요일별 확진 수 "
      ]
    },
    {
      "cell_type": "code",
      "execution_count": null,
      "metadata": {
        "id": "VoIEVmWDNTe3"
      },
      "outputs": [],
      "source": [
        "# 월별, 요일별 확진수를 groupby로 구하기\n",
        "\n"
      ]
    },
    {
      "cell_type": "code",
      "execution_count": null,
      "metadata": {
        "id": "EAP-pFOFNTe4"
      },
      "outputs": [],
      "source": [
        "# 숫자로 표현된 요일을 문자로 바꿔주기 위해 split 을 통해 문자를 리스트로 변경합니다.\n",
        "# dayofweek\n"
      ]
    },
    {
      "cell_type": "code",
      "execution_count": null,
      "metadata": {
        "id": "X4Onpr4YNTe4"
      },
      "outputs": [],
      "source": [
        "# 컬럼의 이름을 한글요일명으로 변경해 줍니다.\n",
        "\n"
      ]
    },
    {
      "cell_type": "code",
      "execution_count": null,
      "metadata": {
        "id": "5pQuAkxWNTe4"
      },
      "outputs": [],
      "source": [
        "# style.background_gradient 로 색상을 표현합니다.\n",
        "\n"
      ]
    },
    {
      "cell_type": "markdown",
      "metadata": {
        "id": "Npv-_C4GNTe4"
      },
      "source": [
        "## 거주지별 확진자"
      ]
    },
    {
      "cell_type": "code",
      "execution_count": null,
      "metadata": {
        "id": "IXAqD9u2NTe4"
      },
      "outputs": [],
      "source": [
        "# 거주지(구별) 확진자의 빈도수를 구하고 시각화 합니다.\n",
        "\n"
      ]
    },
    {
      "cell_type": "code",
      "execution_count": null,
      "metadata": {
        "id": "7g2GLap9NTe4"
      },
      "outputs": [],
      "source": [
        "# 구별 확진자의 수를 시각화 합니다.\n",
        "\n"
      ]
    },
    {
      "cell_type": "code",
      "execution_count": null,
      "metadata": {
        "id": "t02X3C4GNTe4"
      },
      "outputs": [],
      "source": [
        "# 서울에서 확진판정을 받은 데이터이기 때문에 거주지가 서울이 아닐 수도 있습니다.\n",
        "# 거주지 별로 서울시에 해당되는 데이터만 따로 가져옵니다.\n",
        "\n"
      ]
    },
    {
      "cell_type": "code",
      "execution_count": null,
      "metadata": {
        "id": "NaTG8WU-NTe4"
      },
      "outputs": [],
      "source": [
        "# 거주지가 서울이 아닌 지역을 따로 추출합니다.\n",
        "\n"
      ]
    },
    {
      "cell_type": "code",
      "execution_count": null,
      "metadata": {
        "id": "PFBCgXKHNTe5"
      },
      "outputs": [],
      "source": [
        "# 구를 전처리 하기 쉽게 컬럼으로 변환하기 위해 reset_index 로 변환합니다.\n",
        "\n"
      ]
    },
    {
      "cell_type": "code",
      "execution_count": null,
      "metadata": {
        "id": "wMp148h6NTe5"
      },
      "outputs": [],
      "source": [
        "# 서울에서 확진 받은 사람 중 서울 vs 타지역을 비교해 보기 위해\n",
        "# \"지역\"이라는 새로운 컬럼을 만들어 서울지역이 아니라면 \"타지역\" 이라는 값을 넣어줍니다. \n",
        "# .loc[행인덱스]\n",
        "# .loc[행, 열]\n",
        "# .loc[조건, 열]\n",
        "\n"
      ]
    },
    {
      "cell_type": "code",
      "execution_count": null,
      "metadata": {
        "scrolled": true,
        "id": "ghmOcLJrNTe5"
      },
      "outputs": [],
      "source": [
        "# 위의 방법으로 할수도 있고 아래의 방법으로 만들수도 있습니다.\n",
        "# 함수 혹은 익명함수를 사용하는 방법으로 \"타지역\" 값을 만들 수도 있습니다.\n",
        "\n"
      ]
    },
    {
      "cell_type": "code",
      "execution_count": null,
      "metadata": {
        "id": "vPyXZRfcNTe5"
      },
      "outputs": [],
      "source": [
        "# \"지역\" 컬럼으로 확진자 빈도수를 구합니다.\n",
        "\n"
      ]
    },
    {
      "cell_type": "code",
      "execution_count": null,
      "metadata": {
        "id": "3RbJgBNaNTe5"
      },
      "outputs": [],
      "source": [
        "# 위에서 구한 빈도수를 막대그래프로 그립니다.\n",
        "\n"
      ]
    },
    {
      "cell_type": "markdown",
      "metadata": {
        "id": "d4VAS8HANTe5"
      },
      "source": [
        "## 접촉력"
      ]
    },
    {
      "cell_type": "code",
      "execution_count": null,
      "metadata": {
        "id": "6Kx4ydiQNTe5"
      },
      "outputs": [],
      "source": [
        "# 접촉력 빈도수를 구합니다.\n",
        "\n"
      ]
    },
    {
      "cell_type": "code",
      "execution_count": null,
      "metadata": {
        "id": "OPnJcTpzNTe6"
      },
      "outputs": [],
      "source": [
        "# 접촉력의 unique 값만 구합니다.\n",
        "\n"
      ]
    },
    {
      "cell_type": "code",
      "execution_count": null,
      "metadata": {
        "id": "iHxXAV3sNTe6"
      },
      "outputs": [],
      "source": [
        "# \"확인\" 이 들어가는 접촉력만 찾습니다.\n",
        "\n"
      ]
    },
    {
      "cell_type": "code",
      "execution_count": null,
      "metadata": {
        "id": "ZJfK_ehNNTe6"
      },
      "outputs": [],
      "source": [
        "# '확인 중', '확인중' => \"확인 중\" 으로 변경합니다.\n",
        "\n"
      ]
    },
    {
      "cell_type": "code",
      "execution_count": null,
      "metadata": {
        "id": "SSr2HtZXNTe6"
      },
      "outputs": [],
      "source": [
        "# \"확인\" 이 들어가는 접촉력만 찾습니다.\n",
        "\n"
      ]
    },
    {
      "cell_type": "code",
      "execution_count": null,
      "metadata": {
        "id": "sryqn7ViNTe6"
      },
      "outputs": [],
      "source": [
        "# 접촉력 빈도수를 시각화 합니다.\n",
        "\n"
      ]
    },
    {
      "cell_type": "code",
      "execution_count": null,
      "metadata": {
        "id": "p1wJVv2mNTe6"
      },
      "outputs": [],
      "source": [
        "# 상위 15개만 구합니다.\n"
      ]
    },
    {
      "cell_type": "code",
      "execution_count": null,
      "metadata": {
        "id": "ojMHKubsNTe6"
      },
      "outputs": [],
      "source": [
        "# 접촉력 빈도수가 높은 목록에 대한 index 값을 구해옵니다.\n",
        "\n"
      ]
    },
    {
      "cell_type": "code",
      "execution_count": null,
      "metadata": {
        "id": "thvTmtgrNTe6"
      },
      "outputs": [],
      "source": [
        "# 위에서 구한 top_contact 에 해당되는 데이터만 isin 으로 가져옵니다.\n"
      ]
    },
    {
      "cell_type": "code",
      "execution_count": null,
      "metadata": {
        "id": "1J3oE86jNTe7"
      },
      "outputs": [],
      "source": [
        "# 접촉력, 월별 빈도수를 groupby 로 구합니다.\n"
      ]
    },
    {
      "cell_type": "markdown",
      "metadata": {
        "id": "JW85P3oMNTe7"
      },
      "source": [
        "### 이태원 클럽 관련\n",
        "* 이태원 클럽 전파는 5월에 시작되었으나 6월에도 확진자가 있습니다.\n",
        "* 6월에 이태원 클럽관련 확진자를 찾아봅니다."
      ]
    },
    {
      "cell_type": "code",
      "execution_count": null,
      "metadata": {
        "id": "ZI21N4BLNTe7"
      },
      "outputs": [],
      "source": [
        ""
      ]
    },
    {
      "cell_type": "markdown",
      "metadata": {
        "id": "vfL8ZFF3NTe7"
      },
      "source": [
        "### 감염경로 불명"
      ]
    },
    {
      "cell_type": "code",
      "execution_count": null,
      "metadata": {
        "id": "732kDkL6NTe7"
      },
      "outputs": [],
      "source": [
        "# \"접촉력\" 이 \"확인 중\"인 데이터만 구합니다.\n",
        "\n"
      ]
    },
    {
      "cell_type": "code",
      "execution_count": null,
      "metadata": {
        "id": "qY_A5by5NTe7"
      },
      "outputs": [],
      "source": [
        "# 감염경로 불명이 어느정도인지 봅니다.\n"
      ]
    },
    {
      "cell_type": "code",
      "execution_count": null,
      "metadata": {
        "id": "1xBoTxZyNTe7"
      },
      "outputs": [],
      "source": [
        "# 전체 확진수를 value_counts 로 구하고 데이터프레임 형태로 만듭니다.\n",
        "# all_weekly_case\n",
        "\n"
      ]
    },
    {
      "cell_type": "code",
      "execution_count": null,
      "metadata": {
        "id": "yWvSdo-UNTe7"
      },
      "outputs": [],
      "source": [
        "# 전체 확진수를 value_counts 로 구하고 데이터프레임 형태로 만듭니다.\n",
        "# unknown_weekly_case\n",
        "\n"
      ]
    },
    {
      "cell_type": "code",
      "execution_count": null,
      "metadata": {
        "id": "CckzwQM-NTe8"
      },
      "outputs": [],
      "source": [
        "# all_weekly_case 와 unknown_weekly_case 를 비교해 봅니다.\n",
        "\n"
      ]
    },
    {
      "cell_type": "code",
      "execution_count": null,
      "metadata": {
        "id": "_1vsRGNHNTe8"
      },
      "outputs": [],
      "source": [
        "# 위에서 구한 결과를 시각화 합니다.\n",
        "\n"
      ]
    },
    {
      "cell_type": "code",
      "execution_count": null,
      "metadata": {
        "id": "3Nc4_Rr9NTe8"
      },
      "outputs": [],
      "source": [
        "# 감염경로 \"확인 중\"의 주별 비율\n",
        "\n"
      ]
    },
    {
      "cell_type": "markdown",
      "metadata": {
        "id": "J2VhCUMENTe8"
      },
      "source": [
        "## 가장 많은 전파가 일어난 번호\n",
        "* [정규 표현식 - 위키백과, 우리 모두의 백과사전](https://ko.wikipedia.org/wiki/%EC%A0%95%EA%B7%9C_%ED%91%9C%ED%98%84%EC%8B%9D)\n",
        "\n",
        "\n",
        "* 파이썬 공식문서 정규표현식 참고하기 : \n",
        "    * https://docs.python.org/3.8/library/re.html#re.sub\n",
        "    \n",
        "    \n",
        "* 문자열 바꾸기 : re.sub(\"규칙\", \"패턴\", \"데이터\")\n",
        "    * https://docs.python.org/3.8/library/re.html#text-munging\n",
        "\n",
        "\n",
        "* 정규표현식 문자열 패턴\n",
        "    * https://docs.python.org/3.8/howto/regex.html#matching-characters\n",
        "\n",
        "    \n",
        "    \n",
        "* [    ] : 일치시킬 문자 세트의 패턴\n",
        "* [가나다] : 가 or 나 or 다 중에 하나를 포함하고 있는지\n",
        "* [가-힣] : 한글 가부터 힣까의 문자 중 하나를 포함하고 있는지\n",
        "* [0-9] : 0~9까지의 숫자 중 하나를 포함하고 있는지\n",
        "* [^0-9] : 숫자를 포함하고 있지 않음\n",
        "* [^가-힣] : 한글이 포함되어 있지 않음\n",
        "* [가-힣+] : 한글이 하나 이상 포함되는지\n"
      ]
    },
    {
      "cell_type": "code",
      "execution_count": null,
      "metadata": {
        "id": "v4VgYw3dNTe8"
      },
      "outputs": [],
      "source": [
        "import re\n",
        "# 정규표현식 라이브러리를 불러옵니다.\n",
        "# 숫자외의 데이터는 제거하는 정규표현식\n",
        "# #7265 접촉(추정)\n",
        "\n"
      ]
    },
    {
      "cell_type": "code",
      "execution_count": null,
      "metadata": {
        "id": "pMpL1Rq2NTe8"
      },
      "outputs": [],
      "source": [
        "# 함수를 통해 숫자외의 문자를 제거하는 get_number 함수를 만듭니다.\n",
        "\n"
      ]
    },
    {
      "cell_type": "code",
      "execution_count": null,
      "metadata": {
        "id": "8Ree63Z5NTe8"
      },
      "outputs": [],
      "source": [
        "# 함수를 map을 통해 접촉번호를 구합니다.\n",
        "\n"
      ]
    },
    {
      "cell_type": "code",
      "execution_count": null,
      "metadata": {
        "id": "6n2nABTyNTe9"
      },
      "outputs": [],
      "source": [
        "# 접촉번호가 없는 0번 행은 drop 으로 삭제합니다.\n",
        "# 한번 drop 한 셀을 다시 drop 하면 이미 삭제를 했는데 다시 삭제하려 하기 때문에 KeyError 가 납니다. \n",
        "# 다시 실행했을 때 KeyError 가 발생하는 것이 정상입니다.\n",
        "\n"
      ]
    },
    {
      "cell_type": "code",
      "execution_count": null,
      "metadata": {
        "id": "5hfQaAGrNTe9"
      },
      "outputs": [],
      "source": [
        "# 상위 10개의 접촉번호를 구해서 top_contact_no 변수에 할당하고 재사용합니다.\n",
        "\n"
      ]
    },
    {
      "cell_type": "code",
      "execution_count": null,
      "metadata": {
        "id": "GUEKLUTsNTe9"
      },
      "outputs": [],
      "source": [
        "# contact의 환자번호와 df의 접촉번호를 merge 합니다.\n",
        "\n"
      ]
    },
    {
      "cell_type": "markdown",
      "metadata": {
        "id": "jVxj4kXbNTe9"
      },
      "source": [
        "## 조치사항"
      ]
    },
    {
      "cell_type": "code",
      "execution_count": null,
      "metadata": {
        "id": "q7surBUZNTe9"
      },
      "outputs": [],
      "source": [
        "# 조치사항에 대한 빈도수를 세어봅니다.\n",
        "# value_counts 는 Series 에만 사용할 수 있습니다.\n",
        "# 단일 변수의 빈도수를 세는데 사용합니다.\n",
        "\n"
      ]
    },
    {
      "cell_type": "markdown",
      "metadata": {
        "id": "Pd6S2FNrNTe9"
      },
      "source": [
        "## 퇴원, 사망여부"
      ]
    },
    {
      "cell_type": "code",
      "execution_count": null,
      "metadata": {
        "id": "heKGAXKoNTe9"
      },
      "outputs": [],
      "source": [
        "# 조치사항 컬럼을 통해 퇴원과 사망 컬럼을 새로 만듭니다.\n",
        "# 또, 어느 병원에 조치되었는지도 병원 컬럼을 만들어서 담습니다.\n",
        "\n"
      ]
    },
    {
      "cell_type": "code",
      "execution_count": null,
      "metadata": {
        "id": "STmyXOycNTe-"
      },
      "outputs": [],
      "source": [
        "# 데이터 수집 시점에서 퇴원하지 못한 환자수\n",
        "\n"
      ]
    },
    {
      "cell_type": "code",
      "execution_count": null,
      "metadata": {
        "id": "8nnPZQtJNTe-"
      },
      "outputs": [],
      "source": [
        "# 퇴원여부 빈도수에 대한 비율을 구합니다.\n",
        "\n"
      ]
    },
    {
      "cell_type": "code",
      "execution_count": null,
      "metadata": {
        "id": "p0OmriEVNTe-"
      },
      "outputs": [],
      "source": [
        "# 사망여부에 따른 빈도수를 구합니다.\n",
        "\n"
      ]
    },
    {
      "cell_type": "code",
      "execution_count": null,
      "metadata": {
        "id": "fwSIXrpVNTe-"
      },
      "outputs": [],
      "source": [
        "# 사망 여부에 따른 빈도수의 비율을 구합니다.\n"
      ]
    },
    {
      "cell_type": "markdown",
      "metadata": {
        "id": "MeDVW_rENTe-"
      },
      "source": [
        "* 데이터 수집 시점 기준 현재까지 입원해 있는 확진자 중 가장 오래 입원해 있는 확진자"
      ]
    },
    {
      "cell_type": "code",
      "execution_count": null,
      "metadata": {
        "id": "z8vS3patNTe-"
      },
      "outputs": [],
      "source": [
        "# 데이터 수집 시점 기준 현재까지 입원해 있는 확진자 중 가장 오래 입원해 있는 확진자\n",
        "\n"
      ]
    },
    {
      "cell_type": "markdown",
      "metadata": {
        "id": "Vwff5EWDNTe-"
      },
      "source": [
        "## 병원"
      ]
    },
    {
      "cell_type": "code",
      "execution_count": null,
      "metadata": {
        "id": "u7AGHh1YNTe-"
      },
      "outputs": [],
      "source": [
        "# describe 로 요약을 합니다.\n",
        "# count : 빈도수\n",
        "# unique : 병원수\n",
        "# top : 가장 많은 빈도로 등장하는 텍스트\n",
        "# freq : 가장 많은 빈도의 횟수\n",
        "\n"
      ]
    },
    {
      "cell_type": "code",
      "execution_count": null,
      "metadata": {
        "scrolled": false,
        "id": "SXEhx3qtNTe_"
      },
      "outputs": [],
      "source": [
        "# 병원의 빈도수를 구합니다.\n",
        "\n"
      ]
    },
    {
      "cell_type": "code",
      "execution_count": null,
      "metadata": {
        "id": "DtblM1cQNTe_"
      },
      "outputs": [],
      "source": [
        "# 병원별 빈도수를 막대그래프로 표현합니다.\n",
        "\n"
      ]
    },
    {
      "cell_type": "code",
      "execution_count": null,
      "metadata": {
        "id": "Vos-iaHINTe_"
      },
      "outputs": [],
      "source": [
        "# 입원환자가 많은 병원을 구합니다.\n",
        "\n"
      ]
    },
    {
      "cell_type": "markdown",
      "metadata": {
        "id": "8yYo9dkrNTe_"
      },
      "source": [
        "### iloc 로 일부 데이터만 보기"
      ]
    },
    {
      "cell_type": "code",
      "execution_count": null,
      "metadata": {
        "id": "yCya42egNTe_"
      },
      "outputs": [],
      "source": [
        "# 전체 데이터를 보기에 너무 많을 수 있기 때문에 iloc 를 사용해서 일부 데이터만 봅니다.\n",
        "\n"
      ]
    },
    {
      "cell_type": "markdown",
      "metadata": {
        "id": "4Yal1g_zNTe_"
      },
      "source": [
        "### loc로 일부 데이터만 보기\n",
        "* iloc 와 loc의 차이점을 비교해 보세요."
      ]
    },
    {
      "cell_type": "code",
      "execution_count": null,
      "metadata": {
        "id": "-P8-4X1RNTe_"
      },
      "outputs": [],
      "source": [
        ""
      ]
    },
    {
      "cell_type": "code",
      "execution_count": null,
      "metadata": {
        "id": "eeSkAVPBNTe_"
      },
      "outputs": [],
      "source": [
        ""
      ]
    },
    {
      "cell_type": "code",
      "execution_count": null,
      "metadata": {
        "id": "kpm7WZXGNTfA"
      },
      "outputs": [],
      "source": [
        ""
      ]
    },
    {
      "cell_type": "markdown",
      "metadata": {
        "id": "gCC0zxHpNTfA"
      },
      "source": [
        "### pandas style 적용하기"
      ]
    },
    {
      "cell_type": "code",
      "execution_count": null,
      "metadata": {
        "scrolled": false,
        "id": "WFqibLR9NTfA"
      },
      "outputs": [],
      "source": [
        ""
      ]
    },
    {
      "cell_type": "code",
      "execution_count": null,
      "metadata": {
        "id": "NJJoBsvyNTfA"
      },
      "outputs": [],
      "source": [
        "# 전체 병원이 너무 많기 때문에 환자가 많은 병원만 따로 봅니다.\n"
      ]
    },
    {
      "cell_type": "markdown",
      "metadata": {
        "id": "JeykmkPQNTfA"
      },
      "source": [
        "## 여행력"
      ]
    },
    {
      "cell_type": "code",
      "execution_count": null,
      "metadata": {
        "id": "-5mJ6uM0NTfA"
      },
      "outputs": [],
      "source": [
        "# \"해외\" 라는 컬럼을 만들어 데이터를 전처리 합니다.\n",
        "# \"여행력\"에 \"-\" 문자가 들어가 있으면 결측치로 처리합니다.\n",
        "# df[\"해외\"]\n"
      ]
    },
    {
      "cell_type": "code",
      "execution_count": null,
      "metadata": {
        "id": "MFsJ3vszNTfA"
      },
      "outputs": [],
      "source": [
        "# describe 로 요약을 합니다.\n",
        "# count : 빈도수\n",
        "# unique : 병원수\n",
        "# top : 가장 많은 빈도로 등장하는 텍스트\n",
        "# freq : 가장 많은 빈도의 횟수\n"
      ]
    },
    {
      "cell_type": "code",
      "execution_count": null,
      "metadata": {
        "id": "NDXbpsjANTfA"
      },
      "outputs": [],
      "source": [
        ""
      ]
    },
    {
      "cell_type": "markdown",
      "metadata": {
        "id": "6GOwrqlBNTfA"
      },
      "source": [
        "### 여행력이 있는 데이터만 가져와서 서브셋 만들기"
      ]
    },
    {
      "cell_type": "code",
      "execution_count": null,
      "metadata": {
        "id": "kn6XNdH2NTfB"
      },
      "outputs": [],
      "source": [
        "# \"해외\" 컬럼의 값이 결측치가 아닌 데이터만 가져와서 \n",
        "# df_oversea 라는 새로운 데이터프레임에 담습니다.\n"
      ]
    },
    {
      "cell_type": "code",
      "execution_count": null,
      "metadata": {
        "id": "I2tdrU47NTfB"
      },
      "outputs": [],
      "source": [
        "# 중복되는 지역명이 있는지 확인합니다.\n"
      ]
    },
    {
      "cell_type": "markdown",
      "metadata": {
        "id": "VBQ_gljBNTfB"
      },
      "source": [
        "### 텍스트 데이터 다루기\n",
        "[Working with text data — pandas documentation](https://pandas.pydata.org/pandas-docs/stable/user_guide/text.html#testing-for-strings-that-match-or-contain-a-pattern)"
      ]
    },
    {
      "cell_type": "code",
      "execution_count": null,
      "metadata": {
        "id": "ySsozWviNTfB"
      },
      "outputs": [],
      "source": [
        "# 유럽 지역을 방문했다면 유럽이라고 바꿔주기 위해 국가명을 str.contains 로 검색하기 위한 형태로 만듭니다.\n",
        "europe = \"체코, 헝가리, 오스트리아, 이탈리아, 프랑스, 모로코, 독일, 스페인, 영국, 폴란드, 터키, 아일랜드\"\n"
      ]
    },
    {
      "cell_type": "code",
      "execution_count": null,
      "metadata": {
        "id": "MS41Nxq5NTfB"
      },
      "outputs": [],
      "source": [
        "# 남미 지역에 해당되는 국가명을 str.contains 로 검색하기 위한 형태로 만듭니다.\n",
        "south_america = \"브라질, 아르헨티아, 칠레, 볼리비아, 멕시코, 페루\"\n"
      ]
    },
    {
      "cell_type": "code",
      "execution_count": null,
      "metadata": {
        "id": "57Ji-rvuNTfB"
      },
      "outputs": [],
      "source": [
        "# 중복되는 국가나 지역을 특정 텍스트로 변경해서 그룹화 해서 빈도수를 세어볼 예정입니다.\n",
        "# .str.contains 와 .loc 를 사용해서 전처리 합니다.\n",
        "\n"
      ]
    },
    {
      "cell_type": "code",
      "execution_count": null,
      "metadata": {
        "id": "vQiggfV9NTfB"
      },
      "outputs": [],
      "source": [
        "# describe 로 요약을 합니다.\n",
        "# count : 빈도수\n",
        "# unique : 병원수\n",
        "# top : 가장 많은 빈도로 등장하는 텍스트\n",
        "# freq : 가장 많은 빈도의 횟수\n"
      ]
    },
    {
      "cell_type": "code",
      "execution_count": null,
      "metadata": {
        "id": "bTOPyjYbNTfC"
      },
      "outputs": [],
      "source": [
        ""
      ]
    },
    {
      "cell_type": "code",
      "execution_count": null,
      "metadata": {
        "id": "5zucvtIfNTfC"
      },
      "outputs": [],
      "source": [
        "# 확진일자, 해외 별 카운트 수를 구합니다.\n",
        "\n"
      ]
    },
    {
      "cell_type": "code",
      "execution_count": null,
      "metadata": {
        "id": "AR1dlBn2NTfC"
      },
      "outputs": [],
      "source": [
        "# 위에서 구한 값을 바탕으로 지역별 누적 확진수를 구합니다.\n",
        "\n"
      ]
    },
    {
      "cell_type": "code",
      "execution_count": null,
      "metadata": {
        "id": "BvcMc4cTNTfC"
      },
      "outputs": [],
      "source": [
        "# 위에서 구한 값을 reset_index() 를 통해 데이터프레임으로 변경하고 \"연번\" 컬럼을 \"확진자수\"로 변경합니다.\n",
        "\n"
      ]
    },
    {
      "cell_type": "code",
      "execution_count": null,
      "metadata": {
        "id": "6NqFMD0qNTfC"
      },
      "outputs": [],
      "source": [
        "# \"해외\" 컬럼의 빈도수를 구합니다.\n"
      ]
    },
    {
      "cell_type": "code",
      "execution_count": null,
      "metadata": {
        "id": "bshaNHEHNTfC"
      },
      "outputs": [],
      "source": [
        "# 위에서 구한 빈도수를 시각화 합니다.\n"
      ]
    },
    {
      "cell_type": "code",
      "execution_count": null,
      "metadata": {
        "id": "IhjnPKkeNTfC"
      },
      "outputs": [],
      "source": [
        ""
      ]
    },
    {
      "cell_type": "code",
      "execution_count": null,
      "metadata": {
        "id": "alWCRllpNTfC"
      },
      "outputs": [],
      "source": [
        ""
      ]
    },
    {
      "cell_type": "code",
      "execution_count": null,
      "metadata": {
        "id": "zGzpJWmWNTfC"
      },
      "outputs": [],
      "source": [
        ""
      ]
    },
    {
      "cell_type": "code",
      "execution_count": null,
      "metadata": {
        "id": "kovbzvmbNTfD"
      },
      "outputs": [],
      "source": [
        ""
      ]
    },
    {
      "cell_type": "code",
      "execution_count": null,
      "metadata": {
        "id": "VVPNJOlBNTfD"
      },
      "outputs": [],
      "source": [
        ""
      ]
    },
    {
      "cell_type": "code",
      "execution_count": null,
      "metadata": {
        "scrolled": false,
        "id": "xPpPb1fFNTfD"
      },
      "outputs": [],
      "source": [
        ""
      ]
    },
    {
      "cell_type": "code",
      "execution_count": null,
      "metadata": {
        "id": "WYS1lj1oNTfD"
      },
      "outputs": [],
      "source": [
        "# \"해외유입 구별 확진자\" 시각화 하기\n",
        "\n"
      ]
    },
    {
      "cell_type": "markdown",
      "metadata": {
        "id": "oNSOkv0yNTfD"
      },
      "source": [
        "### 전체확진수와 해외유입 확진수 비교"
      ]
    },
    {
      "cell_type": "code",
      "execution_count": null,
      "metadata": {
        "id": "zSGYzaOPNTfD"
      },
      "outputs": [],
      "source": [
        "# all_count_gu 변수에 전체 지역의 확진자수 구하기\n"
      ]
    },
    {
      "cell_type": "code",
      "execution_count": null,
      "metadata": {
        "id": "1iHtySU8NTfD"
      },
      "outputs": [],
      "source": [
        "# 데이터프레임으로 변환하고 컬럼명 변경하기\n",
        "\n"
      ]
    },
    {
      "cell_type": "code",
      "execution_count": null,
      "metadata": {
        "id": "zXKkvgqpNTfD"
      },
      "outputs": [],
      "source": [
        "# 해외유입확진수 구하기\n",
        "\n"
      ]
    },
    {
      "cell_type": "markdown",
      "metadata": {
        "id": "MrOl8YN9NTfD"
      },
      "source": [
        "### merge 를 통해 전체 확진수와 해외유입확진수 비교하기\n",
        "* 이미지 출처 및 Pandas 공식문서 보기 : [How to combine data from multiple tables? — pandas documentation](https://pandas.pydata.org/pandas-docs/stable/getting_started/intro_tutorials/08_combine_dataframes.html#join-tables-using-a-common-identifier)\n",
        "\n",
        "<img src=\"https://pandas.pydata.org/pandas-docs/stable/_images/08_merge_left.svg\">"
      ]
    },
    {
      "cell_type": "code",
      "execution_count": null,
      "metadata": {
        "id": "hBlS5m-GNTfE"
      },
      "outputs": [],
      "source": [
        "# merge 로 합쳐서 전체확진수와 해외유입확진수 비교해 보기\n",
        "\n"
      ]
    },
    {
      "cell_type": "code",
      "execution_count": null,
      "metadata": {
        "id": "5ufBBxPYNTfE"
      },
      "outputs": [],
      "source": [
        "# 시각화 하기\n",
        "\n"
      ]
    },
    {
      "cell_type": "code",
      "execution_count": null,
      "metadata": {
        "id": "C5XtsCJ8NTfE"
      },
      "outputs": [],
      "source": [
        "# df_all_oversea_case[\"해외유입비율\"] 구하기\n",
        "\n"
      ]
    },
    {
      "cell_type": "markdown",
      "metadata": {
        "id": "6aBkT4jeNTfE"
      },
      "source": [
        "### 해외유입 확진자 중 퇴원 여부"
      ]
    },
    {
      "cell_type": "code",
      "execution_count": null,
      "metadata": {
        "id": "r-WgnHF2NTfE"
      },
      "outputs": [],
      "source": [
        "# oversea_finish_count 해외유입 확진자 중 퇴원 여부 구하기\n",
        "\n"
      ]
    },
    {
      "cell_type": "markdown",
      "metadata": {
        "id": "Zillmb-2NTfE"
      },
      "source": [
        "### 월별 해외 확진자 수"
      ]
    },
    {
      "cell_type": "code",
      "execution_count": null,
      "metadata": {
        "id": "ScUrql3cNTfE"
      },
      "outputs": [],
      "source": [
        ""
      ]
    },
    {
      "cell_type": "markdown",
      "metadata": {
        "id": "vtb1ZToxNTfF"
      },
      "source": [
        "### 구와 월별 해외 확진자 수\n",
        "* groupby, crosstab, pivot_table 로 같은 결과의 테이블이 나오도록 구합니다.\n",
        "#### groupby 로 빈도수 구하기"
      ]
    },
    {
      "cell_type": "code",
      "execution_count": null,
      "metadata": {
        "id": "YHsrdMkcNTfF"
      },
      "outputs": [],
      "source": [
        "\n",
        "\n"
      ]
    },
    {
      "cell_type": "markdown",
      "metadata": {
        "id": "QWKF8qj-NTfF"
      },
      "source": [
        "#### crosstab 으로 빈도수 구하기"
      ]
    },
    {
      "cell_type": "code",
      "execution_count": null,
      "metadata": {
        "id": "i4BvJH1ZNTfF"
      },
      "outputs": [],
      "source": [
        ""
      ]
    },
    {
      "cell_type": "markdown",
      "metadata": {
        "id": "Bk94DJ65NTfF"
      },
      "source": [
        "#### pivot_table 로 빈도수 구하기"
      ]
    },
    {
      "cell_type": "code",
      "execution_count": null,
      "metadata": {
        "id": "-txoPy4cNTfF"
      },
      "outputs": [],
      "source": [
        ""
      ]
    },
    {
      "cell_type": "markdown",
      "metadata": {
        "id": "mRTXS8idNTfF"
      },
      "source": [
        "### 해외유입이 많은 지역"
      ]
    },
    {
      "cell_type": "code",
      "execution_count": null,
      "metadata": {
        "scrolled": false,
        "id": "-ztAjekMNTfF"
      },
      "outputs": [],
      "source": [
        "# 해외유입이 많은 상위 10개 지역을 구합니다.\n",
        "# top_oversea_gu\n"
      ]
    },
    {
      "cell_type": "code",
      "execution_count": null,
      "metadata": {
        "id": "fYVI_H-cNTfF"
      },
      "outputs": [],
      "source": [
        "# 시각화 하기\n",
        "\n"
      ]
    },
    {
      "cell_type": "markdown",
      "metadata": {
        "id": "b3oK9GwtNTfG"
      },
      "source": [
        "### 구별 해외유입 국가 분석하기\n",
        "#### groupby 로 구하기"
      ]
    },
    {
      "cell_type": "code",
      "execution_count": null,
      "metadata": {
        "id": "UmFISTB1NTfG"
      },
      "outputs": [],
      "source": [
        ""
      ]
    },
    {
      "cell_type": "markdown",
      "metadata": {
        "id": "AtgMlGKENTfG"
      },
      "source": [
        "#### pivot table 로 구하기\n",
        "* groupby 로 구한 결과와 같은 결과가 나오게 구합니다."
      ]
    },
    {
      "cell_type": "code",
      "execution_count": null,
      "metadata": {
        "id": "X5x_gjjYNTfG"
      },
      "outputs": [],
      "source": [
        ""
      ]
    },
    {
      "cell_type": "markdown",
      "metadata": {
        "id": "xYEATkicNTfG"
      },
      "source": [
        "#### 일부 구만 따로 보기\n",
        "* 전체는 너무 많기 때문에 특정 구만 따로 봅니다."
      ]
    },
    {
      "cell_type": "code",
      "execution_count": null,
      "metadata": {
        "id": "52vcwOA1NTfG"
      },
      "outputs": [],
      "source": [
        "# 강남 3구의 입국자는 해외 어느 지역에서 입국했나?\n",
        "\n"
      ]
    },
    {
      "cell_type": "code",
      "execution_count": null,
      "metadata": {
        "id": "GNBFzy05NTfG"
      },
      "outputs": [],
      "source": [
        "# top_oversea_gu 에 따른 확진수 보기\n"
      ]
    },
    {
      "cell_type": "markdown",
      "metadata": {
        "id": "1yc4tPR3NTfG"
      },
      "source": [
        "### 최근 데이터를 불러와 실습해 보기\n",
        "* 이 실습을 진행하고 계신 여러분들은 이 시점보다 미래에 있겠죠?\n",
        "* 같은 내용의 실습을 최근 데이터로 해보세요!"
      ]
    },
    {
      "cell_type": "code",
      "execution_count": null,
      "metadata": {
        "id": "C3-UuKn6NTfG"
      },
      "outputs": [],
      "source": [
        ""
      ]
    }
  ],
  "metadata": {
    "kernelspec": {
      "display_name": "Python 3",
      "language": "python",
      "name": "python3"
    },
    "language_info": {
      "codemirror_mode": {
        "name": "ipython",
        "version": 3
      },
      "file_extension": ".py",
      "mimetype": "text/x-python",
      "name": "python",
      "nbconvert_exporter": "python",
      "pygments_lexer": "ipython3",
      "version": "3.7.6"
    },
    "toc": {
      "base_numbering": 1,
      "nav_menu": {},
      "number_sections": true,
      "sideBar": true,
      "skip_h1_title": false,
      "title_cell": "Table of Contents",
      "title_sidebar": "Contents",
      "toc_cell": false,
      "toc_position": {
        "height": "calc(100% - 180px)",
        "left": "10px",
        "top": "150px",
        "width": "204.797px"
      },
      "toc_section_display": true,
      "toc_window_display": false
    },
    "varInspector": {
      "cols": {
        "lenName": 16,
        "lenType": 16,
        "lenVar": 40
      },
      "kernels_config": {
        "python": {
          "delete_cmd_postfix": "",
          "delete_cmd_prefix": "del ",
          "library": "var_list.py",
          "varRefreshCmd": "print(var_dic_list())"
        },
        "r": {
          "delete_cmd_postfix": ") ",
          "delete_cmd_prefix": "rm(",
          "library": "var_list.r",
          "varRefreshCmd": "cat(var_dic_list()) "
        }
      },
      "types_to_exclude": [
        "module",
        "function",
        "builtin_function_or_method",
        "instance",
        "_Feature"
      ],
      "window_display": false
    },
    "colab": {
      "name": "2022-01-02-seoul-covid-19-02-eda-input.ipynb",
      "provenance": [],
      "collapsed_sections": [
        "aSAiGYh2NTey",
        "z_xIdf0CNTey",
        "blghY_mBNTez",
        "pFCjXE8jNTez",
        "G_2E43MaNTez",
        "T-JneWtENTe0",
        "1sNwV48vNTe1",
        "zVga9lXONTe1",
        "aH0Pz4Q0NTe2",
        "jNgizv4DNTe2",
        "GjcDd4xwNTe2",
        "RJm_lQY0NTe3",
        "YbfRUQZ_NTe3",
        "N5ibAIUZNTe3",
        "ceSXFeZ6NTe3",
        "Npv-_C4GNTe4",
        "d4VAS8HANTe5",
        "JW85P3oMNTe7",
        "vfL8ZFF3NTe7",
        "J2VhCUMENTe8",
        "jVxj4kXbNTe9",
        "Pd6S2FNrNTe9",
        "Vwff5EWDNTe-",
        "8yYo9dkrNTe_",
        "4Yal1g_zNTe_",
        "gCC0zxHpNTfA",
        "JeykmkPQNTfA",
        "6GOwrqlBNTfA",
        "VBQ_gljBNTfB",
        "oNSOkv0yNTfD",
        "MrOl8YN9NTfD",
        "6aBkT4jeNTfE",
        "Zillmb-2NTfE",
        "vtb1ZToxNTfF",
        "QWKF8qj-NTfF",
        "Bk94DJ65NTfF",
        "mRTXS8idNTfF",
        "b3oK9GwtNTfG",
        "AtgMlGKENTfG",
        "xYEATkicNTfG",
        "1yc4tPR3NTfG"
      ]
    }
  },
  "nbformat": 4,
  "nbformat_minor": 0
}