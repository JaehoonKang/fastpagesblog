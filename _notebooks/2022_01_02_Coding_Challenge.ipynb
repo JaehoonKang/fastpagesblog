{
  "nbformat": 4,
  "nbformat_minor": 0,
  "metadata": {
    "colab": {
      "name": "2022-01-02-Coding-Challenge.ipynb",
      "provenance": [],
      "collapsed_sections": [],
      "toc_visible": true
    },
    "kernelspec": {
      "name": "python3",
      "display_name": "Python 3"
    },
    "language_info": {
      "name": "python"
    }
  },
  "cells": [
    {
      "cell_type": "markdown",
      "source": [
        "# \"Coding Challenge\"\n",
        "> \"Coding Everyday\"\n",
        "\n",
        "- toc:true\n",
        "- branch: master\n",
        "- badges: true\n",
        "- comments: true\n",
        "- author: Jay\n",
        "- categories: [Colab, jupyter, Python, CodingEveryday]"
      ],
      "metadata": {
        "id": "38C02lZJmGGN"
      }
    },
    {
      "cell_type": "markdown",
      "source": [
        "## Part1\n",
        "\n"
      ],
      "metadata": {
        "id": "D45sJfhqKQb_"
      }
    },
    {
      "cell_type": "code",
      "source": [
        ""
      ],
      "metadata": {
        "id": "VOgaliwg2Gxt"
      },
      "execution_count": null,
      "outputs": []
    },
    {
      "cell_type": "code",
      "source": [
        "del nums[-2:]"
      ],
      "metadata": {
        "id": "m7kwDuYfTHdN"
      },
      "execution_count": null,
      "outputs": []
    },
    {
      "cell_type": "code",
      "source": [
        "nums"
      ],
      "metadata": {
        "colab": {
          "base_uri": "https://localhost:8080/"
        },
        "id": "pCA96AwZTNJe",
        "outputId": "10a47524-76ae-4a4f-b3ac-f5e5733b64ca"
      },
      "execution_count": null,
      "outputs": [
        {
          "output_type": "execute_result",
          "data": {
            "text/plain": [
              "[100, 200, 300]"
            ]
          },
          "metadata": {},
          "execution_count": 3
        }
      ]
    },
    {
      "cell_type": "markdown",
      "source": [
        "Question 02"
      ],
      "metadata": {
        "id": "vRDM6Om6TR_1"
      }
    },
    {
      "cell_type": "code",
      "source": [
        "l = [200, 100, 300]\n",
        "l.insert(2, 1000)\n",
        "print(l)"
      ],
      "metadata": {
        "colab": {
          "base_uri": "https://localhost:8080/"
        },
        "id": "JAA32POdTQPC",
        "outputId": "55848877-0b0c-43f1-a19f-32c869f6f590"
      },
      "execution_count": null,
      "outputs": [
        {
          "output_type": "stream",
          "name": "stdout",
          "text": [
            "[200, 100, 1000, 300]\n"
          ]
        }
      ]
    },
    {
      "cell_type": "markdown",
      "source": [
        "Question 03"
      ],
      "metadata": {
        "id": "blPgNeYmTpDL"
      }
    },
    {
      "cell_type": "code",
      "source": [
        "l = [100, 200, 300]\n",
        "print(type(l))"
      ],
      "metadata": {
        "colab": {
          "base_uri": "https://localhost:8080/"
        },
        "id": "cxK6pptwTp_y",
        "outputId": "a0419120-0010-4078-bcfb-7696c56bd145"
      },
      "execution_count": null,
      "outputs": [
        {
          "output_type": "stream",
          "name": "stdout",
          "text": [
            "<class 'list'>\n"
          ]
        }
      ]
    },
    {
      "cell_type": "code",
      "source": [
        "list(range(1,3))"
      ],
      "metadata": {
        "colab": {
          "base_uri": "https://localhost:8080/"
        },
        "id": "rpOgQOsZXOT0",
        "outputId": "56808f15-6b40-4452-b4b0-4dddbf5faeb7"
      },
      "execution_count": null,
      "outputs": [
        {
          "output_type": "execute_result",
          "data": {
            "text/plain": [
              "[1, 2]"
            ]
          },
          "metadata": {},
          "execution_count": 11
        }
      ]
    },
    {
      "cell_type": "markdown",
      "source": [
        "10"
      ],
      "metadata": {
        "id": "BMxXT5x5Wb6B"
      }
    },
    {
      "cell_type": "code",
      "source": [
        "def star(n):\n",
        "  #floor = range(1,n+1)\n",
        "  #num  = 2*n -1 \n",
        "  for i in range(1, n+1):\n",
        "    print(' '* (n-i) + '*' * (2*i -1))"
      ],
      "metadata": {
        "id": "hA17DF9TVVHM"
      },
      "execution_count": null,
      "outputs": []
    },
    {
      "cell_type": "code",
      "source": [
        "star(5)"
      ],
      "metadata": {
        "colab": {
          "base_uri": "https://localhost:8080/",
          "height": 171
        },
        "id": "lSMxar4sXwS_",
        "outputId": "33829b38-ee1c-4279-bf32-3769df8ea94d"
      },
      "execution_count": null,
      "outputs": [
        {
          "output_type": "error",
          "ename": "NameError",
          "evalue": "ignored",
          "traceback": [
            "\u001b[0;31m---------------------------------------------------------------------------\u001b[0m",
            "\u001b[0;31mNameError\u001b[0m                                 Traceback (most recent call last)",
            "\u001b[0;32m<ipython-input-2-9f66f1cc46e5>\u001b[0m in \u001b[0;36m<module>\u001b[0;34m()\u001b[0m\n\u001b[0;32m----> 1\u001b[0;31m \u001b[0mstar\u001b[0m\u001b[0;34m(\u001b[0m\u001b[0;36m5\u001b[0m\u001b[0;34m)\u001b[0m\u001b[0;34m\u001b[0m\u001b[0;34m\u001b[0m\u001b[0m\n\u001b[0m",
            "\u001b[0;31mNameError\u001b[0m: name 'star' is not defined"
          ]
        }
      ]
    },
    {
      "cell_type": "markdown",
      "source": [
        "Q11"
      ],
      "metadata": {
        "id": "P3adhO-z2LUm"
      }
    },
    {
      "cell_type": "code",
      "source": [
        "s = 0\n",
        "for i in range(0,101):\n",
        "  s += i \n",
        "s"
      ],
      "metadata": {
        "colab": {
          "base_uri": "https://localhost:8080/"
        },
        "id": "5-4OzO9l2HUv",
        "outputId": "782f67f5-b179-4999-e370-738650123e46"
      },
      "execution_count": null,
      "outputs": [
        {
          "output_type": "execute_result",
          "data": {
            "text/plain": [
              "5050"
            ]
          },
          "metadata": {},
          "execution_count": 4
        }
      ]
    },
    {
      "cell_type": "markdown",
      "source": [
        "Q12"
      ],
      "metadata": {
        "id": "JOfrhkwQ2cSG"
      }
    },
    {
      "cell_type": "code",
      "source": [
        "x = Wizard(health, mana , armor)\n",
        "print(x.health, x.mana, x.armor)\n",
        "x.attack()"
      ],
      "metadata": {
        "id": "jKF_CiY_2dml"
      },
      "execution_count": null,
      "outputs": []
    },
    {
      "cell_type": "code",
      "source": [
        "class Wizard(health = 545, mana =210, armor = 10):\n",
        "  \n",
        "  def __init__(self, health, mana, armor):\n",
        "    self.health = health\n",
        "    self.mana = mana\n",
        "    self.armor = armor\n",
        "  \n",
        "  def attack(self):\n",
        "    print(\"fireball\")"
      ],
      "metadata": {
        "id": "XlvShyXM2fpI"
      },
      "execution_count": null,
      "outputs": []
    },
    {
      "cell_type": "markdown",
      "source": [
        "Q13"
      ],
      "metadata": {
        "id": "fhAD8v-g3EMy"
      }
    },
    {
      "cell_type": "code",
      "source": [
        "planet_list = [\"수성\", \"금성\", \"지구\", \"화성\", \"목성\", \"토성\", \"천왕성\", \"해왕성\"]\n",
        "def planet(n):\n",
        "  print(planet_list[n-1])"
      ],
      "metadata": {
        "id": "xWZITvYW3FOr"
      },
      "execution_count": null,
      "outputs": []
    },
    {
      "cell_type": "code",
      "source": [
        "planet(1)"
      ],
      "metadata": {
        "colab": {
          "base_uri": "https://localhost:8080/"
        },
        "id": "MOHzYQkn5USN",
        "outputId": "6742302f-d529-4407-96fb-b27857ee78fe"
      },
      "execution_count": null,
      "outputs": [
        {
          "output_type": "stream",
          "name": "stdout",
          "text": [
            "수성\n"
          ]
        }
      ]
    },
    {
      "cell_type": "markdown",
      "source": [
        "Q14"
      ],
      "metadata": {
        "id": "8sCTj2Nt5zI1"
      }
    },
    {
      "cell_type": "code",
      "source": [
        "def three(n):\n",
        "  if n // 3 == 0:\n",
        "    print(\"짝\")\n",
        "  else:\n",
        "    print(n)\n",
        "\n",
        "three(4)"
      ],
      "metadata": {
        "colab": {
          "base_uri": "https://localhost:8080/"
        },
        "id": "FPGTB34R5jZH",
        "outputId": "d0bdf16d-6ca8-4374-9279-c0ec716a35fd"
      },
      "execution_count": null,
      "outputs": [
        {
          "output_type": "stream",
          "name": "stdout",
          "text": [
            "4\n"
          ]
        }
      ]
    },
    {
      "cell_type": "code",
      "source": [
        "try:\n",
        "  n = int(input(\"what nunber\"))\n",
        "  if n // 3 == 0:\n",
        "    print(\"even\")\n",
        "  else:\n",
        "    print(n)\n",
        "except:\n",
        "  print(\"number please\")"
      ],
      "metadata": {
        "colab": {
          "base_uri": "https://localhost:8080/"
        },
        "id": "FnCYm28VEE0d",
        "outputId": "6bf4aeac-fed8-4ee9-d385-6390940c5c1d"
      },
      "execution_count": null,
      "outputs": [
        {
          "output_type": "stream",
          "name": "stdout",
          "text": [
            "what nunber123\n",
            "123\n"
          ]
        }
      ]
    },
    {
      "cell_type": "markdown",
      "source": [
        "Q15"
      ],
      "metadata": {
        "id": "EKi2nQ0d50ef"
      }
    },
    {
      "cell_type": "code",
      "source": [
        "def welcome(name):\n",
        "  print(f'안녕하세요 저는 {name}입니다')\n",
        "\n",
        "welcome('김다영')"
      ],
      "metadata": {
        "colab": {
          "base_uri": "https://localhost:8080/"
        },
        "id": "3j1b8p8851DE",
        "outputId": "ea160a50-d0f2-42c7-c8f7-ff038933071e"
      },
      "execution_count": null,
      "outputs": [
        {
          "output_type": "stream",
          "name": "stdout",
          "text": [
            "안녕하세요 저는 김다영입니다\n"
          ]
        }
      ]
    },
    {
      "cell_type": "markdown",
      "source": [
        "Q16"
      ],
      "metadata": {
        "id": "yoEwAYJF6bQ5"
      }
    },
    {
      "cell_type": "code",
      "source": [
        "def reverse(s):\n",
        "  print(s[::-1])\n",
        "\n",
        "reverse('abs')"
      ],
      "metadata": {
        "colab": {
          "base_uri": "https://localhost:8080/"
        },
        "id": "JA1ohOIt6ccP",
        "outputId": "164d086e-9596-48c2-e5b7-78eb87671dfb"
      },
      "execution_count": null,
      "outputs": [
        {
          "output_type": "stream",
          "name": "stdout",
          "text": [
            "sba\n"
          ]
        }
      ]
    },
    {
      "cell_type": "code",
      "source": [
        "s = ''\n",
        "for i in word:\n",
        "  s  = i + s\n",
        "s"
      ],
      "metadata": {
        "id": "8k6Ur2ZZE75p"
      },
      "execution_count": null,
      "outputs": []
    },
    {
      "cell_type": "code",
      "source": [
        "def reverse(s):\n",
        "  if len(s) == 1:\n",
        "    return s\n",
        "  else:\n",
        "    return reverse(s[1:])+ s[0]"
      ],
      "metadata": {
        "id": "a8-YuAKXFx-y"
      },
      "execution_count": null,
      "outputs": []
    },
    {
      "cell_type": "code",
      "source": [
        "reverse('abcde')"
      ],
      "metadata": {
        "colab": {
          "base_uri": "https://localhost:8080/",
          "height": 36
        },
        "id": "3KuUHKYwGt74",
        "outputId": "ee666cb2-6d4d-4ddb-b5aa-e088ef8407b9"
      },
      "execution_count": null,
      "outputs": [
        {
          "output_type": "execute_result",
          "data": {
            "application/vnd.google.colaboratory.intrinsic+json": {
              "type": "string"
            },
            "text/plain": [
              "'edcba'"
            ]
          },
          "metadata": {},
          "execution_count": 37
        }
      ]
    },
    {
      "cell_type": "markdown",
      "source": [
        "Q18"
      ],
      "metadata": {
        "id": "fUV901VK6uGu"
      }
    },
    {
      "cell_type": "code",
      "source": [
        "data = list(map(int,input().split()))\n",
        "data"
      ],
      "metadata": {
        "id": "T6L9PakTHYnh"
      },
      "execution_count": null,
      "outputs": []
    },
    {
      "cell_type": "code",
      "source": [
        "m"
      ],
      "metadata": {
        "id": "VOF2pnLVHu9n"
      },
      "execution_count": null,
      "outputs": []
    },
    {
      "cell_type": "code",
      "source": [
        "def find_avg(a,b,c):\n",
        "  return floor((a+b+c) / 3)"
      ],
      "metadata": {
        "id": "fXbOOch76uk1"
      },
      "execution_count": null,
      "outputs": []
    },
    {
      "cell_type": "code",
      "source": [
        "find_avg(3,4,6)"
      ],
      "metadata": {
        "id": "N29dhhXb7AW8"
      },
      "execution_count": null,
      "outputs": []
    },
    {
      "cell_type": "markdown",
      "source": [
        "Q19"
      ],
      "metadata": {
        "id": "3_7YCo3WQ1bp"
      }
    },
    {
      "cell_type": "code",
      "source": [
        "two_num = input(\"input two numbers with space: \")"
      ],
      "metadata": {
        "colab": {
          "base_uri": "https://localhost:8080/"
        },
        "id": "HglAFFYpQ2d0",
        "outputId": "938cb4e6-5827-4b89-ef39-3d3fa9c25064"
      },
      "execution_count": null,
      "outputs": [
        {
          "name": "stdout",
          "output_type": "stream",
          "text": [
            "input two numbers with space12 34\n"
          ]
        }
      ]
    },
    {
      "cell_type": "code",
      "source": [
        "two_num.split()"
      ],
      "metadata": {
        "colab": {
          "base_uri": "https://localhost:8080/"
        },
        "id": "ACWohD6nRFp-",
        "outputId": "03315aaf-9977-4f45-e6c1-72d78b68ba58"
      },
      "execution_count": null,
      "outputs": [
        {
          "output_type": "execute_result",
          "data": {
            "text/plain": [
              "['12', '34']"
            ]
          },
          "metadata": {},
          "execution_count": 2
        }
      ]
    },
    {
      "cell_type": "code",
      "source": [
        "two_num = list(map(int,input(\"input two numbers with space: \").split()))\n",
        "two_num"
      ],
      "metadata": {
        "colab": {
          "base_uri": "https://localhost:8080/"
        },
        "id": "ElpC3o8nRQuY",
        "outputId": "4ddbc75b-09d9-4e43-a41a-96b7c351f401"
      },
      "execution_count": null,
      "outputs": [
        {
          "name": "stdout",
          "output_type": "stream",
          "text": [
            "input two numbers with space: 23 43\n"
          ]
        },
        {
          "output_type": "execute_result",
          "data": {
            "text/plain": [
              "[23, 43]"
            ]
          },
          "metadata": {},
          "execution_count": 5
        }
      ]
    },
    {
      "cell_type": "code",
      "source": [
        "time = two_num[0] ** two_num[1]"
      ],
      "metadata": {
        "id": "U1sMRVttRXKy"
      },
      "execution_count": null,
      "outputs": []
    },
    {
      "cell_type": "code",
      "source": [
        "time"
      ],
      "metadata": {
        "colab": {
          "base_uri": "https://localhost:8080/"
        },
        "id": "pfqOeX4uRkbx",
        "outputId": "94712f4f-e6b0-47ca-d977-29aed9bbdf6b"
      },
      "execution_count": null,
      "outputs": [
        {
          "output_type": "execute_result",
          "data": {
            "text/plain": [
              "35834136918934220777541995677272642015423987712183913488967"
            ]
          },
          "metadata": {},
          "execution_count": 8
        }
      ]
    },
    {
      "cell_type": "code",
      "source": [
        "numbers = (1, 2, 3, 4)\n",
        "result = map(lambda x: x + x, numbers)\n",
        "print(list(result))\n",
        "\n",
        "numbers = (2,3)\n",
        "result = map(lambda x: x **2, numbers)\n",
        "print(list(result))"
      ],
      "metadata": {
        "colab": {
          "base_uri": "https://localhost:8080/"
        },
        "id": "A7555y60R6qz",
        "outputId": "7d886f63-b8dd-4988-f9e7-894046191813"
      },
      "execution_count": null,
      "outputs": [
        {
          "output_type": "stream",
          "name": "stdout",
          "text": [
            "[2, 4, 6, 8]\n",
            "[4, 9]\n"
          ]
        }
      ]
    },
    {
      "cell_type": "markdown",
      "source": [
        "Q20"
      ],
      "metadata": {
        "id": "54zyvEl-SwLo"
      }
    },
    {
      "cell_type": "code",
      "source": [
        "two_num = list(map(int,input(\"input two numbers with space: \").split()))"
      ],
      "metadata": {
        "colab": {
          "base_uri": "https://localhost:8080/"
        },
        "id": "rGMHUCWSSGSP",
        "outputId": "e86c62c7-1279-49b1-e1d5-07fc306a5735"
      },
      "execution_count": null,
      "outputs": [
        {
          "name": "stdout",
          "output_type": "stream",
          "text": [
            "input two numbers with space: 34 65\n"
          ]
        }
      ]
    },
    {
      "cell_type": "code",
      "source": [
        "print(two_num[0] % two_num[1])\n",
        "print(two_num[0] // two_num[1])"
      ],
      "metadata": {
        "colab": {
          "base_uri": "https://localhost:8080/"
        },
        "id": "s3De9rnbSZH2",
        "outputId": "c4e28da7-b6c5-4261-b240-21e2f135a18d"
      },
      "execution_count": null,
      "outputs": [
        {
          "output_type": "stream",
          "name": "stdout",
          "text": [
            "34\n",
            "0\n"
          ]
        }
      ]
    },
    {
      "cell_type": "markdown",
      "source": [
        "Q21"
      ],
      "metadata": {
        "id": "bt2OdDXkSxeF"
      }
    },
    {
      "cell_type": "code",
      "source": [
        "type({})"
      ],
      "metadata": {
        "colab": {
          "base_uri": "https://localhost:8080/"
        },
        "id": "B2m8u6xKSyA-",
        "outputId": "fad9d8a7-22d7-422d-c320-f925e98541da"
      },
      "execution_count": null,
      "outputs": [
        {
          "output_type": "execute_result",
          "data": {
            "text/plain": [
              "dict"
            ]
          },
          "metadata": {},
          "execution_count": 16
        }
      ]
    },
    {
      "cell_type": "markdown",
      "source": [
        "Q24"
      ],
      "metadata": {
        "id": "hsqxUOiRUN_j"
      }
    },
    {
      "cell_type": "code",
      "source": [
        "name = input(\"what is ur name? :\")\n",
        "\n",
        "print(name.upper())"
      ],
      "metadata": {
        "colab": {
          "base_uri": "https://localhost:8080/"
        },
        "id": "VwBO8xJBUOk8",
        "outputId": "0bfe544c-9d1e-4478-e3c6-965b3f5fb479"
      },
      "execution_count": null,
      "outputs": [
        {
          "output_type": "stream",
          "name": "stdout",
          "text": [
            "what is ur name? :sdfds\n",
            "SDFDS\n"
          ]
        }
      ]
    },
    {
      "cell_type": "code",
      "source": [
        "s = ''\n",
        "for i in name:\n",
        "  s += chr(ord(i) - 32)\n",
        "s"
      ],
      "metadata": {
        "colab": {
          "base_uri": "https://localhost:8080/",
          "height": 35
        },
        "id": "NNX4GgY5Z3vY",
        "outputId": "a8d79de0-691d-4fa1-afab-8e7e44b5d506"
      },
      "execution_count": null,
      "outputs": [
        {
          "output_type": "execute_result",
          "data": {
            "application/vnd.google.colaboratory.intrinsic+json": {
              "type": "string"
            },
            "text/plain": [
              "'SDFDS'"
            ]
          },
          "metadata": {},
          "execution_count": 32
        }
      ]
    },
    {
      "cell_type": "markdown",
      "source": [
        "Q26"
      ],
      "metadata": {
        "id": "q5TLiD-xU2a_"
      }
    },
    {
      "cell_type": "code",
      "source": [
        "korean_planet = [\"수성\", \"금성\", \"지구\", \"화성\", \"목성\", \"토성\", \"천왕성\", \"해왕성\"]\n",
        "English_planet = [\"Mercury\", \"Venus\", \"Earth\", \"Mars\", \"Jupiter\", \"Saturn\", \"Uranus\", \"Neptune\"]"
      ],
      "metadata": {
        "id": "NPJndUHMU3Ih"
      },
      "execution_count": null,
      "outputs": []
    },
    {
      "cell_type": "code",
      "source": [
        "planet = input(\"planet? :\")\n",
        "p_index = korean_planet.index(planet)"
      ],
      "metadata": {
        "colab": {
          "base_uri": "https://localhost:8080/"
        },
        "id": "ZuDBVgeMVEaA",
        "outputId": "792ba835-acb5-4141-9ad4-cec134f2bd15"
      },
      "execution_count": null,
      "outputs": [
        {
          "name": "stdout",
          "output_type": "stream",
          "text": [
            "planet? :수성\n"
          ]
        }
      ]
    },
    {
      "cell_type": "code",
      "source": [
        "English_planet[p_index]"
      ],
      "metadata": {
        "colab": {
          "base_uri": "https://localhost:8080/",
          "height": 35
        },
        "id": "BJ5JvGyXVdf8",
        "outputId": "2c30b100-e484-4d90-f882-1ac7a9783dac"
      },
      "execution_count": null,
      "outputs": [
        {
          "output_type": "execute_result",
          "data": {
            "application/vnd.google.colaboratory.intrinsic+json": {
              "type": "string"
            },
            "text/plain": [
              "'Mercury'"
            ]
          },
          "metadata": {},
          "execution_count": 23
        }
      ]
    },
    {
      "cell_type": "code",
      "source": [
        "data = zip(korean_planet, English_planet)\n",
        "dict(data)\n"
      ],
      "metadata": {
        "id": "ZMkQZ00Va2PH"
      },
      "execution_count": null,
      "outputs": []
    },
    {
      "cell_type": "markdown",
      "source": [
        "Q27"
      ],
      "metadata": {
        "id": "q6mkB7QFVsH3"
      }
    },
    {
      "cell_type": "code",
      "source": [
        "name_list = list(input(\"student names? \").split())\n",
        "grade_list = list(map(int, input(\"grade? \").split()))\n",
        "\n",
        "print(name_list, grade_list)"
      ],
      "metadata": {
        "colab": {
          "base_uri": "https://localhost:8080/"
        },
        "id": "fcy4rnNJVs41",
        "outputId": "51e6c30a-d688-4adb-b17b-18efa6d28976"
      },
      "execution_count": null,
      "outputs": [
        {
          "output_type": "stream",
          "name": "stdout",
          "text": [
            "student names? a b c d\n",
            "grade? 12 34 54 65\n",
            "['a', 'b', 'c', 'd'] [12, 34, 54, 65]\n"
          ]
        }
      ]
    },
    {
      "cell_type": "code",
      "source": [
        "keys = input().split()\n",
        "values = map(int, input().split())\n",
        "\n",
        "dict(zip(keys, values))"
      ],
      "metadata": {
        "colab": {
          "base_uri": "https://localhost:8080/"
        },
        "id": "7XLNYrWocaoR",
        "outputId": "f74fd579-a5fb-4d2a-eee9-48ed8539b05d"
      },
      "execution_count": null,
      "outputs": [
        {
          "name": "stdout",
          "output_type": "stream",
          "text": [
            "a b\n",
            "10 20\n"
          ]
        },
        {
          "output_type": "execute_result",
          "data": {
            "text/plain": [
              "{'a': 10, 'b': 20}"
            ]
          },
          "metadata": {},
          "execution_count": 2
        }
      ]
    },
    {
      "cell_type": "code",
      "source": [
        ""
      ],
      "metadata": {
        "colab": {
          "base_uri": "https://localhost:8080/"
        },
        "id": "NrSYMuo8WYk7",
        "outputId": "ecdcf645-0283-4322-9145-7a5971baf653"
      },
      "execution_count": null,
      "outputs": [
        {
          "output_type": "execute_result",
          "data": {
            "text/plain": [
              "{'a': 12, 'b': 34, 'c': 54, 'd': 65}"
            ]
          },
          "metadata": {},
          "execution_count": 29
        }
      ]
    },
    {
      "cell_type": "markdown",
      "source": [
        "Q28"
      ],
      "metadata": {
        "id": "ytu-h-j7XCoZ"
      }
    },
    {
      "cell_type": "code",
      "source": [
        "i = 0\n",
        "While True:\n",
        "  s = input(\"any string to parse? \")\n",
        "  print(s[i:i+1])\n",
        "  i += 1"
      ],
      "metadata": {
        "id": "aN7sfakiXXGA"
      },
      "execution_count": null,
      "outputs": []
    },
    {
      "cell_type": "code",
      "source": [
        "data = input()\n",
        "\n",
        "for i in range(len(data) -1 ):\n",
        "  print(data[i] + data[i+1])\n"
      ],
      "metadata": {
        "colab": {
          "base_uri": "https://localhost:8080/"
        },
        "id": "Idht8cNrd7ZE",
        "outputId": "ae00cc2c-060f-489f-b11c-0df704a66910"
      },
      "execution_count": null,
      "outputs": [
        {
          "output_type": "stream",
          "name": "stdout",
          "text": [
            "asfasdb\n",
            "as\n",
            "sf\n",
            "fa\n",
            "as\n",
            "sd\n",
            "db\n"
          ]
        }
      ]
    },
    {
      "cell_type": "code",
      "source": [
        "data = input()\n",
        "\n",
        "for i in range(len(data)-1):\n",
        "  print(data[i] + data[i+1])"
      ],
      "metadata": {
        "colab": {
          "base_uri": "https://localhost:8080/"
        },
        "id": "665rnZSQiBDn",
        "outputId": "86a1ab7c-8af2-4cb9-8c94-a5f7bb132e80"
      },
      "execution_count": null,
      "outputs": [
        {
          "output_type": "stream",
          "name": "stdout",
          "text": [
            "safadsv\n",
            "sa\n",
            "af\n",
            "fa\n",
            "ad\n",
            "ds\n",
            "sv\n"
          ]
        }
      ]
    },
    {
      "cell_type": "markdown",
      "source": [
        "Q29"
      ],
      "metadata": {
        "id": "zRlxg9ihi4EP"
      }
    },
    {
      "cell_type": "code",
      "source": [
        "word = input()\n",
        "\n",
        "if word == word.upper():\n",
        "  print(\"yes\")\n",
        "else:\n",
        "  print(\"no\")"
      ],
      "metadata": {
        "colab": {
          "base_uri": "https://localhost:8080/"
        },
        "id": "wRNitppFiPZ4",
        "outputId": "ad710ce9-dd3e-4165-ddc5-101f42747e96"
      },
      "execution_count": null,
      "outputs": [
        {
          "output_type": "stream",
          "name": "stdout",
          "text": [
            "w\n",
            "no\n"
          ]
        }
      ]
    },
    {
      "cell_type": "code",
      "source": [
        "word = list(input().split())\n",
        "\n",
        "for i in word:\n",
        "  if i == i.upper():\n",
        "    print(i)"
      ],
      "metadata": {
        "colab": {
          "base_uri": "https://localhost:8080/"
        },
        "id": "xh1f7dcbik1k",
        "outputId": "d6015371-eee1-48d1-8f8a-7d9af4a58a89"
      },
      "execution_count": null,
      "outputs": [
        {
          "output_type": "stream",
          "name": "stdout",
          "text": [
            "w W D e\n",
            "W\n",
            "D\n"
          ]
        }
      ]
    },
    {
      "cell_type": "code",
      "source": [
        "data = input()\n",
        "work = True\n",
        "\n",
        "for i in data:\n",
        "  if ord(i) >=65 and ord(i) <=90:\n",
        "    continue\n",
        "  else:\n",
        "    work = False\n",
        "    break\n",
        "else:\n",
        "  print('yes')\n",
        "if not work:\n",
        "  print('no')"
      ],
      "metadata": {
        "colab": {
          "base_uri": "https://localhost:8080/"
        },
        "id": "VbXC7f0rvJMU",
        "outputId": "694c4a6c-4f2e-4248-b279-b080016b4394"
      },
      "execution_count": null,
      "outputs": [
        {
          "output_type": "stream",
          "name": "stdout",
          "text": [
            "a\n",
            "no\n"
          ]
        }
      ]
    },
    {
      "cell_type": "markdown",
      "source": [
        "Q30"
      ],
      "metadata": {
        "id": "tVLXlOCrjDkI"
      }
    },
    {
      "cell_type": "code",
      "source": [
        "sentence = input()\n",
        "word = input()\n",
        "sen_list = list(sentence.split())\n",
        "\n",
        "if word in sen_list:\n",
        "  print(sentence.index(word))\n",
        "else:\n",
        "  print(\"not in index\")"
      ],
      "metadata": {
        "colab": {
          "base_uri": "https://localhost:8080/"
        },
        "id": "PPjP25-OjFI5",
        "outputId": "9609af4a-9a3c-4813-a013-4054a27ebede"
      },
      "execution_count": null,
      "outputs": [
        {
          "output_type": "stream",
          "name": "stdout",
          "text": [
            "show me the money\n",
            "the\n",
            "8\n"
          ]
        }
      ]
    },
    {
      "cell_type": "code",
      "source": [
        "sen = input()\n",
        "w = input()\n",
        "\n",
        "if w in sen:\n",
        "  print(sen.find(w))"
      ],
      "metadata": {
        "colab": {
          "base_uri": "https://localhost:8080/"
        },
        "id": "_iuL8qsywrTu",
        "outputId": "e52ec119-b397-44ac-f574-eecf4b0e5f58"
      },
      "execution_count": null,
      "outputs": [
        {
          "output_type": "stream",
          "name": "stdout",
          "text": [
            "showme the money\n",
            "me\n",
            "4\n"
          ]
        }
      ]
    },
    {
      "cell_type": "markdown",
      "source": [
        "Q32"
      ],
      "metadata": {
        "id": "mZQo5As1lc-H"
      }
    },
    {
      "cell_type": "code",
      "source": [
        "length_sentence = len(list(input().split()))\n",
        "\n",
        "length_sentence"
      ],
      "metadata": {
        "colab": {
          "base_uri": "https://localhost:8080/"
        },
        "id": "S4eHyoNqld5-",
        "outputId": "508d896b-06da-4098-f27d-6c7347106f43"
      },
      "execution_count": null,
      "outputs": [
        {
          "name": "stdout",
          "output_type": "stream",
          "text": [
            "fly to the monn\n"
          ]
        },
        {
          "output_type": "execute_result",
          "data": {
            "text/plain": [
              "4"
            ]
          },
          "metadata": {},
          "execution_count": 13
        }
      ]
    },
    {
      "cell_type": "markdown",
      "source": [
        "Q33"
      ],
      "metadata": {
        "id": "uA4ZBH1Xq-ha"
      }
    },
    {
      "cell_type": "code",
      "source": [
        "nums = list(input().split())\n",
        "s=''\n",
        "for i in nums:\n",
        "  s = i + ' ' + s\n",
        "\n",
        "rev = list(map(int, s.split()))\n",
        "rev\n",
        "\n"
      ],
      "metadata": {
        "colab": {
          "base_uri": "https://localhost:8080/"
        },
        "id": "0_RwoDLcq_PM",
        "outputId": "38d08c15-ece9-4217-8dad-fa318b625042"
      },
      "execution_count": null,
      "outputs": [
        {
          "name": "stdout",
          "output_type": "stream",
          "text": [
            "1 92 3 4 5\n"
          ]
        },
        {
          "output_type": "execute_result",
          "data": {
            "text/plain": [
              "[5, 4, 3, 92, 1]"
            ]
          },
          "metadata": {},
          "execution_count": 24
        }
      ]
    },
    {
      "cell_type": "markdown",
      "source": [
        "##part2"
      ],
      "metadata": {
        "id": "aW_iuXZ5KKRb"
      }
    },
    {
      "cell_type": "markdown",
      "source": [
        "Q34"
      ],
      "metadata": {
        "id": "3Pe---czKHlq"
      }
    },
    {
      "cell_type": "code",
      "source": [
        "#l = list(map(int, input().strip().split()))\n",
        "\n",
        "l = [1,2,3]\n",
        "\n",
        "[1,2,3] == [1,2,3].sort()"
      ],
      "metadata": {
        "colab": {
          "base_uri": "https://localhost:8080/"
        },
        "id": "6894Qr8gKHCk",
        "outputId": "daeeb5a9-bd14-4d7f-a45c-3e2e8999521c"
      },
      "execution_count": null,
      "outputs": [
        {
          "output_type": "execute_result",
          "data": {
            "text/plain": [
              "False"
            ]
          },
          "metadata": {},
          "execution_count": 18
        }
      ]
    },
    {
      "cell_type": "code",
      "source": [
        "s = input()\n",
        "l = [float(i) for i in s.split(' ')]\n",
        "l"
      ],
      "metadata": {
        "colab": {
          "base_uri": "https://localhost:8080/"
        },
        "id": "VisAMKnaMTKP",
        "outputId": "c020bbc0-e4ab-4b87-cd4d-69a57095c292"
      },
      "execution_count": null,
      "outputs": [
        {
          "name": "stdout",
          "output_type": "stream",
          "text": [
            "177 198 156 178\n"
          ]
        },
        {
          "output_type": "execute_result",
          "data": {
            "text/plain": [
              "[177.0, 198.0, 156.0, 178.0]"
            ]
          },
          "metadata": {},
          "execution_count": 16
        }
      ]
    },
    {
      "cell_type": "markdown",
      "source": [
        "Q35"
      ],
      "metadata": {
        "id": "2o-8k65ZPLw7"
      }
    },
    {
      "cell_type": "code",
      "source": [
        "def one(n):\n",
        "    def two(value):\n",
        "        return value ** n\n",
        "    return two\n",
        "\n",
        "a = one(2)\n",
        "b = one(3)\n",
        "c = one(4)\n",
        "print(a(10))\n",
        "print(b(10))\n",
        "print(c(10))\n",
        "\n"
      ],
      "metadata": {
        "id": "FXaC9igBPMWF",
        "colab": {
          "base_uri": "https://localhost:8080/"
        },
        "outputId": "94757453-5e7e-4937-ffab-30c2edb064b7"
      },
      "execution_count": null,
      "outputs": [
        {
          "output_type": "stream",
          "name": "stdout",
          "text": [
            "100\n",
            "1000\n",
            "10000\n"
          ]
        }
      ]
    },
    {
      "cell_type": "markdown",
      "source": [
        "##12/30/21"
      ],
      "metadata": {
        "id": "rBaT5nWZhKIn"
      }
    },
    {
      "cell_type": "markdown",
      "source": [
        "Q36"
      ],
      "metadata": {
        "id": "4EggKT0HYDwG"
      }
    },
    {
      "cell_type": "code",
      "source": [
        "num = int(input())\n",
        "\n",
        "for i in range(1,10):\n",
        "  print(num * i, end = \" \")"
      ],
      "metadata": {
        "colab": {
          "base_uri": "https://localhost:8080/"
        },
        "id": "rhzUmgqSYDPb",
        "outputId": "62cd0489-29a4-431e-d567-4a4a5985bf8e"
      },
      "execution_count": null,
      "outputs": [
        {
          "output_type": "stream",
          "name": "stdout",
          "text": [
            "2\n",
            "2 4 6 8 10 12 14 16 18 "
          ]
        }
      ]
    },
    {
      "cell_type": "code",
      "source": [
        "[i * num for i in range(1,10)]"
      ],
      "metadata": {
        "colab": {
          "base_uri": "https://localhost:8080/"
        },
        "id": "v7eaMXeKY64Y",
        "outputId": "f728cd60-0e2f-4be0-ce9d-937062c915f0"
      },
      "execution_count": null,
      "outputs": [
        {
          "output_type": "execute_result",
          "data": {
            "text/plain": [
              "[2, 4, 6, 8, 10, 12, 14, 16, 18]"
            ]
          },
          "metadata": {},
          "execution_count": 4
        }
      ]
    },
    {
      "cell_type": "code",
      "source": [
        "w = int(input())\n",
        "s = ''\n",
        "\n",
        "for i in range(1,10):\n",
        "  s += str(w * i) + ' '\n",
        "\n",
        "print(s)"
      ],
      "metadata": {
        "colab": {
          "base_uri": "https://localhost:8080/"
        },
        "id": "60n25otpveVW",
        "outputId": "6981ef4e-6b94-405e-dee9-1f52532f1ee7"
      },
      "execution_count": null,
      "outputs": [
        {
          "output_type": "stream",
          "name": "stdout",
          "text": [
            "3\n",
            "3 6 9 12 15 18 21 24 27 \n"
          ]
        }
      ]
    },
    {
      "cell_type": "markdown",
      "source": [
        "Q37"
      ],
      "metadata": {
        "id": "9nW-WkCmZEJj"
      }
    },
    {
      "cell_type": "code",
      "source": [
        "l = input().split()\n",
        "l_list = list(l)\n",
        "l_set = set(l)\n",
        "b ={}\n",
        "for i in l_set:\n",
        "  b[i] = l_list.count(i)\n",
        "\n",
        "for k, v in b.items():\n",
        "  if v == max(b.values()):\n",
        "    print(f'{k} has {v}')"
      ],
      "metadata": {
        "colab": {
          "base_uri": "https://localhost:8080/"
        },
        "id": "s8Ke2RtvZEws",
        "outputId": "115da53f-f0c7-4846-b1c4-76f2cb0a580e"
      },
      "execution_count": null,
      "outputs": [
        {
          "output_type": "stream",
          "name": "stdout",
          "text": [
            "원범 원범 혜원 혜원 혜원 혜원 유진 유진\n",
            "혜원 has 4\n"
          ]
        }
      ]
    },
    {
      "cell_type": "code",
      "source": [
        "#원범 원범 혜원 혜원 유진 유진 유진 유진\n",
        "\n",
        "data = input().split()\n",
        "data_set = set(data)\n",
        "data_dict = {}\n",
        "\n",
        "print(data)\n",
        "for key in data_set:\n",
        "  data_dict[key] = data.count(key)\n",
        "\n",
        "print(f'{max(data_dict, key = data_dict.get)} is {max(data_dict.values())}')"
      ],
      "metadata": {
        "colab": {
          "base_uri": "https://localhost:8080/"
        },
        "id": "u4piFn09wA_G",
        "outputId": "782bc7b6-f0f2-410b-b954-d34b0b96f1c0"
      },
      "execution_count": null,
      "outputs": [
        {
          "output_type": "stream",
          "name": "stdout",
          "text": [
            "원범 원범 혜원 혜원 유진 유진 유진 유진\n",
            "['원범', '원범', '혜원', '혜원', '유진', '유진', '유진', '유진']\n",
            "유진 is 4\n"
          ]
        }
      ]
    },
    {
      "cell_type": "markdown",
      "source": [
        "Q38"
      ],
      "metadata": {
        "id": "MD9_mht3b8WB"
      }
    },
    {
      "cell_type": "code",
      "source": [
        "l = input().split()\n",
        "l_list = list(l)\n",
        "l_set = set(l)\n",
        "\n",
        "a = sorted(list(l_set))\n",
        "\n",
        "b = a[:-4:-1]\n",
        "\n",
        "n = 0\n",
        "for i in b:\n",
        "  n += l_list.count(i)\n",
        "n"
      ],
      "metadata": {
        "colab": {
          "base_uri": "https://localhost:8080/"
        },
        "id": "Gk7US3s0b7iA",
        "outputId": "66974bab-41c7-4840-e7cf-716ea8a0ad23"
      },
      "execution_count": null,
      "outputs": [
        {
          "name": "stdout",
          "output_type": "stream",
          "text": [
            "97 86 75 66 55 97 85 97 97 95\n"
          ]
        },
        {
          "output_type": "execute_result",
          "data": {
            "text/plain": [
              "6"
            ]
          },
          "metadata": {},
          "execution_count": 36
        }
      ]
    },
    {
      "cell_type": "markdown",
      "source": [
        "Q39"
      ],
      "metadata": {
        "id": "WjmLDP6tgP8_"
      }
    },
    {
      "cell_type": "code",
      "source": [
        "sen = input()\n",
        "s = ''\n",
        "for i in sen:\n",
        "  if i == 'q':\n",
        "    s += 'e'\n",
        "  elif i =='b':\n",
        "    s += 'n'\n",
        "  else:\n",
        "    s += i\n",
        "print(s)"
      ],
      "metadata": {
        "colab": {
          "base_uri": "https://localhost:8080/"
        },
        "id": "XgYFpvPegQi_",
        "outputId": "2a4959bc-180d-4831-9991-48134f0db76c"
      },
      "execution_count": null,
      "outputs": [
        {
          "output_type": "stream",
          "name": "stdout",
          "text": [
            "hqllo my bamq is hyqwob\n",
            "hello my name is hyewon\n"
          ]
        }
      ]
    },
    {
      "cell_type": "markdown",
      "source": [
        "##1/2/22"
      ],
      "metadata": {
        "id": "yuk-VxEaXxJN"
      }
    },
    {
      "cell_type": "markdown",
      "source": [
        "Q40"
      ],
      "metadata": {
        "id": "8CvC_pIqY-Cf"
      }
    },
    {
      "cell_type": "code",
      "source": [
        "limit = int(input())\n",
        "number = int(input())\n",
        "\n",
        "friends = list(map(int,input().split()))\n",
        "\n",
        "count = 0 \n",
        "weight = 0 \n",
        "for i in friends:\n",
        "  if weight < limit:\n",
        "    weight += i\n",
        "    count +=1\n",
        "  else:\n",
        "    print(count)"
      ],
      "metadata": {
        "colab": {
          "base_uri": "https://localhost:8080/"
        },
        "id": "_xY9_cZPX0Kn",
        "outputId": "812ad828-9194-4c6b-82b5-6d6a978adbce"
      },
      "execution_count": null,
      "outputs": [
        {
          "output_type": "stream",
          "name": "stdout",
          "text": [
            "50\n",
            "5\n",
            "20 20 20 20 20\n",
            "3\n",
            "3\n"
          ]
        }
      ]
    },
    {
      "cell_type": "code",
      "source": [
        "제한무게 = float(input())\n",
        "친구수 = int(input())\n",
        "\n",
        "친구몸무게 = []\n",
        "\n",
        "for i in range(친구수):\n",
        "  친구몸무게.append(float(input))\n",
        "\n",
        "전체몸무게 = 0\n",
        "for i in range(친구수):\n",
        "  전체몸무게 += 친구몸무게[i]\n",
        "  if 전체몸무게 > 제한무게:\n",
        "    print(i)\n",
        "    break"
      ],
      "metadata": {
        "id": "MRjwGdR3hD2F"
      },
      "execution_count": null,
      "outputs": []
    },
    {
      "cell_type": "markdown",
      "source": [
        "Q41"
      ],
      "metadata": {
        "id": "7GKOJtqcb-OH"
      }
    },
    {
      "cell_type": "code",
      "source": [
        "num = int(input())\n",
        "\n",
        "for i in range(1, num+1):\n",
        "  if (num % i) == 0:\n",
        "    if i == 1 and i == num:\n",
        "      print(\"Yes\")\n",
        "    else:\n",
        "      print(\"No\")\n",
        "\n"
      ],
      "metadata": {
        "colab": {
          "base_uri": "https://localhost:8080/"
        },
        "id": "UdGC3HV6b-6I",
        "outputId": "b8d30193-802b-4e42-ab11-612201addaa6"
      },
      "execution_count": null,
      "outputs": [
        {
          "output_type": "stream",
          "name": "stdout",
          "text": [
            "20\n",
            "No\n",
            "No\n",
            "No\n",
            "No\n",
            "No\n",
            "No\n",
            "No\n",
            "No\n",
            "No\n",
            "No\n",
            "No\n",
            "No\n",
            "No\n",
            "No\n"
          ]
        }
      ]
    },
    {
      "cell_type": "markdown",
      "source": [
        "Q42"
      ],
      "metadata": {
        "id": "UeYn10k4eCCg"
      }
    },
    {
      "cell_type": "code",
      "source": [
        "import datetime\n",
        "def solution(a,b):\n",
        "  date = datetime.datetime(2020, a, b)\n",
        "  return date.strftime(\"%a\")\n",
        "\n",
        "solution(11, 15)\n",
        "solution(5, 24)"
      ],
      "metadata": {
        "colab": {
          "base_uri": "https://localhost:8080/",
          "height": 35
        },
        "id": "Hkjv-Cuxc422",
        "outputId": "38fe63ef-f7c5-46bb-994e-e285614c6b1f"
      },
      "execution_count": null,
      "outputs": [
        {
          "output_type": "execute_result",
          "data": {
            "application/vnd.google.colaboratory.intrinsic+json": {
              "type": "string"
            },
            "text/plain": [
              "'Sun'"
            ]
          },
          "metadata": {},
          "execution_count": 13
        }
      ]
    },
    {
      "cell_type": "markdown",
      "source": [
        "Q43"
      ],
      "metadata": {
        "id": "2PC7qShGfKGU"
      }
    },
    {
      "cell_type": "code",
      "source": [
        ""
      ],
      "metadata": {
        "colab": {
          "base_uri": "https://localhost:8080/"
        },
        "id": "8GD9VhwWfKrf",
        "outputId": "aa656a33-75cf-4cac-9c95-b2ff7c32f6dd"
      },
      "execution_count": null,
      "outputs": [
        {
          "output_type": "execute_result",
          "data": {
            "text/plain": [
              "16"
            ]
          },
          "metadata": {},
          "execution_count": 14
        }
      ]
    }
  ]
}